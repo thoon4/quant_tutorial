{
  "cells": [
    {
      "cell_type": "markdown",
      "id": "639b5fc6",
      "metadata": {
        "id": "639b5fc6"
      },
      "source": [
        "# LSTM을 활용하여 카카오 주가 예측하기"
      ]
    },
    {
      "cell_type": "markdown",
      "id": "ba6a5676",
      "metadata": {
        "id": "ba6a5676"
      },
      "source": [
        "* 필요한 Library\n",
        "    * yfinance :\n",
        "        * yahoo finance [[ref]](https://github.com/ranaroussi/yfinance)\n",
        "        * conda install yfinance\n",
        "    * fbprophet : \n",
        "        * 시계열 데이터로 예측을 하기 위한 모듈 [[ref]](https://facebook.github.io/prophet/)\n",
        "        * pip3 install fbprophet\n",
        "    * pandas_datareader \n",
        "        * 웹 상의 데이터를 DataFrame 객체로 만드는 함수를 포함하는 모듈 [[ref]](https://pandas-datareader.readthedocs.io/en/latest/)\n",
        "        * pip3 install pandas_datareader\n",
        "    * pandas, numpy, seaborn, sklearn, tensorflow"
      ]
    },
    {
      "cell_type": "markdown",
      "id": "e61e18c3",
      "metadata": {
        "id": "e61e18c3"
      },
      "source": [
        "* Reference\n",
        "    * https://dschloe.github.io/python/python_edu/07_deeplearning/deep_learning_lstm/\n",
        "    * https://bziwnsizd.tistory.com/33\n",
        "    * https://coding-yoon.tistory.com/131\n",
        "    * https://colab.research.google.com/github/teddylee777/machine-learning/blob/master/04-TensorFlow2.0/01-%EC%82%BC%EC%84%B1%EC%A0%84%EC%9E%90-%EC%A3%BC%EA%B0%80%EC%98%88%EC%B8%A1/02-LSTM-stock-forecasting-with-LSTM-financedatareader.ipynb\n",
        "    * https://dataplay.tistory.com/19\n",
        "    * https://github.com/KerasKorea/KEKOxTutorial/blob/master/22_Keras%EB%A5%BC%20%ED%99%9C%EC%9A%A9%ED%95%9C%20%EC%A3%BC%EC%8B%9D%20%EA%B0%80%EA%B2%A9%20%EC%98%88%EC%B8%A1.md\n",
        "    * https://www.youtube.com/watch?v=LLLVYkXJw30&t=843s\n",
        "    * https://www.youtube.com/watch?v=9haME49Rx_0&t=120s"
      ]
    },
    {
      "cell_type": "markdown",
      "id": "fc724d74",
      "metadata": {
        "id": "fc724d74"
      },
      "source": [
        "## Preparation"
      ]
    },
    {
      "cell_type": "code",
      "source": [
        "import os, sys  \n",
        "from google.colab import drive  \n",
        "# drive.mount('/content/drive')   \n",
        "pg_path = '/content/packages'  \n",
        "# os.symlink('/content/drive/My Drive/Colab Notebooks', pg_path)  \n",
        "sys.path.insert(0, pg_path)  \n",
        "# !pip install --target=$pg_path yfinance\n",
        "# !pip install --target=$pg_path pingouin\n"
      ],
      "metadata": {
        "id": "EpUbaOvB9wnE"
      },
      "id": "EpUbaOvB9wnE",
      "execution_count": 1,
      "outputs": []
    },
    {
      "cell_type": "code",
      "source": [
        "!pip install --target=$pg_path pingouin"
      ],
      "metadata": {
        "colab": {
          "base_uri": "https://localhost:8080/",
          "height": 1000
        },
        "id": "4J5htk07mKqn",
        "outputId": "21e3eeaf-0f31-4bc2-a834-98a5c8b0864e"
      },
      "id": "4J5htk07mKqn",
      "execution_count": 27,
      "outputs": [
        {
          "output_type": "stream",
          "name": "stdout",
          "text": [
            "Collecting pingouin\n",
            "  Downloading pingouin-0.5.0.tar.gz (182 kB)\n",
            "\u001b[?25l\r\u001b[K     |█▉                              | 10 kB 30.6 MB/s eta 0:00:01\r\u001b[K     |███▋                            | 20 kB 25.1 MB/s eta 0:00:01\r\u001b[K     |█████▍                          | 30 kB 11.2 MB/s eta 0:00:01\r\u001b[K     |███████▏                        | 40 kB 8.9 MB/s eta 0:00:01\r\u001b[K     |█████████                       | 51 kB 5.5 MB/s eta 0:00:01\r\u001b[K     |██████████▊                     | 61 kB 5.6 MB/s eta 0:00:01\r\u001b[K     |████████████▌                   | 71 kB 5.5 MB/s eta 0:00:01\r\u001b[K     |██████████████▍                 | 81 kB 6.2 MB/s eta 0:00:01\r\u001b[K     |████████████████▏               | 92 kB 6.3 MB/s eta 0:00:01\r\u001b[K     |██████████████████              | 102 kB 5.3 MB/s eta 0:00:01\r\u001b[K     |███████████████████▊            | 112 kB 5.3 MB/s eta 0:00:01\r\u001b[K     |█████████████████████▌          | 122 kB 5.3 MB/s eta 0:00:01\r\u001b[K     |███████████████████████▎        | 133 kB 5.3 MB/s eta 0:00:01\r\u001b[K     |█████████████████████████       | 143 kB 5.3 MB/s eta 0:00:01\r\u001b[K     |██████████████████████████▉     | 153 kB 5.3 MB/s eta 0:00:01\r\u001b[K     |████████████████████████████▊   | 163 kB 5.3 MB/s eta 0:00:01\r\u001b[K     |██████████████████████████████▌ | 174 kB 5.3 MB/s eta 0:00:01\r\u001b[K     |████████████████████████████████| 182 kB 5.3 MB/s \n",
            "\u001b[?25hCollecting numpy>=1.19\n",
            "  Using cached numpy-1.21.5-cp37-cp37m-manylinux_2_12_x86_64.manylinux2010_x86_64.whl (15.7 MB)\n",
            "Collecting scipy>=1.7\n",
            "  Downloading scipy-1.7.3-cp37-cp37m-manylinux_2_12_x86_64.manylinux2010_x86_64.whl (38.1 MB)\n",
            "\u001b[K     |████████████████████████████████| 38.1 MB 1.4 MB/s \n",
            "\u001b[?25hCollecting pandas>=1.0\n",
            "  Using cached pandas-1.3.5-cp37-cp37m-manylinux_2_17_x86_64.manylinux2014_x86_64.whl (11.3 MB)\n",
            "Collecting matplotlib>=3.0.2\n",
            "  Downloading matplotlib-3.5.1-cp37-cp37m-manylinux_2_5_x86_64.manylinux1_x86_64.whl (11.2 MB)\n",
            "\u001b[K     |████████████████████████████████| 11.2 MB 39.4 MB/s \n",
            "\u001b[?25hCollecting seaborn>=0.9.0\n",
            "  Downloading seaborn-0.11.2-py3-none-any.whl (292 kB)\n",
            "\u001b[K     |████████████████████████████████| 292 kB 49.1 MB/s \n",
            "\u001b[?25hCollecting statsmodels>=0.12.0\n",
            "  Downloading statsmodels-0.13.1-cp37-cp37m-manylinux_2_17_x86_64.manylinux2014_x86_64.whl (9.8 MB)\n",
            "\u001b[K     |████████████████████████████████| 9.8 MB 30.1 MB/s \n",
            "\u001b[?25hCollecting scikit-learn\n",
            "  Downloading scikit_learn-1.0.2-cp37-cp37m-manylinux_2_17_x86_64.manylinux2014_x86_64.whl (24.8 MB)\n",
            "\u001b[K     |████████████████████████████████| 24.8 MB 1.6 MB/s \n",
            "\u001b[?25hCollecting pandas_flavor>=0.2.0\n",
            "  Downloading pandas_flavor-0.2.0-py2.py3-none-any.whl (6.6 kB)\n",
            "Collecting outdated\n",
            "  Downloading outdated-0.2.1-py3-none-any.whl (7.5 kB)\n",
            "Collecting tabulate\n",
            "  Downloading tabulate-0.8.9-py3-none-any.whl (25 kB)\n",
            "Collecting pyparsing>=2.2.1\n",
            "  Downloading pyparsing-3.0.7-py3-none-any.whl (98 kB)\n",
            "\u001b[K     |████████████████████████████████| 98 kB 8.0 MB/s \n",
            "\u001b[?25hCollecting cycler>=0.10\n",
            "  Downloading cycler-0.11.0-py3-none-any.whl (6.4 kB)\n",
            "Collecting packaging>=20.0\n",
            "  Downloading packaging-21.3-py3-none-any.whl (40 kB)\n",
            "\u001b[K     |████████████████████████████████| 40 kB 6.0 MB/s \n",
            "\u001b[?25hCollecting kiwisolver>=1.0.1\n",
            "  Downloading kiwisolver-1.3.2-cp37-cp37m-manylinux_2_5_x86_64.manylinux1_x86_64.whl (1.1 MB)\n",
            "\u001b[K     |████████████████████████████████| 1.1 MB 59.2 MB/s \n",
            "\u001b[?25hCollecting python-dateutil>=2.7\n",
            "  Using cached python_dateutil-2.8.2-py2.py3-none-any.whl (247 kB)\n",
            "Collecting pillow>=6.2.0\n",
            "  Downloading Pillow-9.0.0-cp37-cp37m-manylinux_2_17_x86_64.manylinux2014_x86_64.whl (4.3 MB)\n",
            "\u001b[K     |████████████████████████████████| 4.3 MB 46.0 MB/s \n",
            "\u001b[?25hCollecting fonttools>=4.22.0\n",
            "  Downloading fonttools-4.28.5-py3-none-any.whl (890 kB)\n",
            "\u001b[K     |████████████████████████████████| 890 kB 44.2 MB/s \n",
            "\u001b[?25hCollecting pytz>=2017.3\n",
            "  Using cached pytz-2021.3-py2.py3-none-any.whl (503 kB)\n",
            "Collecting xarray\n",
            "  Downloading xarray-0.20.2-py3-none-any.whl (845 kB)\n",
            "\u001b[K     |████████████████████████████████| 845 kB 54.3 MB/s \n",
            "\u001b[?25hCollecting six>=1.5\n",
            "  Using cached six-1.16.0-py2.py3-none-any.whl (11 kB)\n",
            "Collecting patsy>=0.5.2\n",
            "  Downloading patsy-0.5.2-py2.py3-none-any.whl (233 kB)\n",
            "\u001b[K     |████████████████████████████████| 233 kB 52.3 MB/s \n",
            "\u001b[?25hCollecting littleutils\n",
            "  Downloading littleutils-0.2.2.tar.gz (6.6 kB)\n",
            "Collecting requests\n",
            "  Using cached requests-2.27.1-py2.py3-none-any.whl (63 kB)\n",
            "Collecting charset-normalizer~=2.0.0\n",
            "  Using cached charset_normalizer-2.0.10-py3-none-any.whl (39 kB)\n",
            "Collecting certifi>=2017.4.17\n",
            "  Using cached certifi-2021.10.8-py2.py3-none-any.whl (149 kB)\n",
            "Collecting idna<4,>=2.5\n",
            "  Using cached idna-3.3-py3-none-any.whl (61 kB)\n",
            "Collecting urllib3<1.27,>=1.21.1\n",
            "  Using cached urllib3-1.26.8-py2.py3-none-any.whl (138 kB)\n",
            "Collecting threadpoolctl>=2.0.0\n",
            "  Downloading threadpoolctl-3.0.0-py3-none-any.whl (14 kB)\n",
            "Collecting joblib>=0.11\n",
            "  Downloading joblib-1.1.0-py2.py3-none-any.whl (306 kB)\n",
            "\u001b[K     |████████████████████████████████| 306 kB 54.6 MB/s \n",
            "\u001b[?25hCollecting importlib-metadata\n",
            "  Downloading importlib_metadata-4.10.1-py3-none-any.whl (17 kB)\n",
            "Collecting typing-extensions>=3.7\n",
            "  Downloading typing_extensions-4.0.1-py3-none-any.whl (22 kB)\n",
            "Collecting zipp>=0.5\n",
            "  Downloading zipp-3.7.0-py3-none-any.whl (5.3 kB)\n",
            "Building wheels for collected packages: pingouin, littleutils\n",
            "  Building wheel for pingouin (setup.py) ... \u001b[?25l\u001b[?25hdone\n",
            "  Created wheel for pingouin: filename=pingouin-0.5.0-py3-none-any.whl size=193660 sha256=4e4a8105b9e7abdab8569f1cf0db53ba850c279089e20c06dc602f542b4062c8\n",
            "  Stored in directory: /root/.cache/pip/wheels/14/46/f9/cedd81d68d2515c24bbbd000d5b347e4fe092ccc4b568f7f70\n",
            "  Building wheel for littleutils (setup.py) ... \u001b[?25l\u001b[?25hdone\n",
            "  Created wheel for littleutils: filename=littleutils-0.2.2-py3-none-any.whl size=7048 sha256=5975324a79a8d1b4405cf1d6a7a1e18aae25f94f2cbdcbc9a3145ae6b943a393\n",
            "  Stored in directory: /root/.cache/pip/wheels/d6/64/cd/32819b511a488e4993f2fab909a95330289c3f4e0f6ef4676d\n",
            "Successfully built pingouin littleutils\n",
            "Installing collected packages: six, zipp, typing-extensions, pytz, python-dateutil, pyparsing, numpy, urllib3, pillow, pandas, packaging, kiwisolver, importlib-metadata, idna, fonttools, cycler, charset-normalizer, certifi, xarray, threadpoolctl, scipy, requests, patsy, matplotlib, littleutils, joblib, tabulate, statsmodels, seaborn, scikit-learn, pandas-flavor, outdated, pingouin\n",
            "\u001b[31mERROR: pip's dependency resolver does not currently take into account all the packages that are installed. This behaviour is the source of the following dependency conflicts.\n",
            "yellowbrick 1.3.post1 requires numpy<1.20,>=1.16.0, but you have numpy 1.21.5 which is incompatible.\n",
            "google-colab 1.0.0 requires pandas~=1.1.0; python_version >= \"3.0\", but you have pandas 1.3.5 which is incompatible.\n",
            "google-colab 1.0.0 requires requests~=2.23.0, but you have requests 2.27.1 which is incompatible.\n",
            "google-colab 1.0.0 requires six~=1.15.0, but you have six 1.16.0 which is incompatible.\n",
            "datascience 0.10.6 requires folium==0.2.1, but you have folium 0.8.3 which is incompatible.\n",
            "arviz 0.11.4 requires typing-extensions<4,>=3.7.4.3, but you have typing-extensions 4.0.1 which is incompatible.\n",
            "albumentations 0.1.12 requires imgaug<0.2.7,>=0.2.5, but you have imgaug 0.2.9 which is incompatible.\u001b[0m\n",
            "Successfully installed certifi-2021.10.8 charset-normalizer-2.0.10 cycler-0.11.0 fonttools-4.28.5 idna-3.3 importlib-metadata-4.10.1 joblib-1.1.0 kiwisolver-1.3.2 littleutils-0.2.2 matplotlib-3.5.1 numpy-1.21.5 outdated-0.2.1 packaging-21.3 pandas-1.3.5 pandas-flavor-0.2.0 patsy-0.5.2 pillow-9.0.0 pingouin-0.5.0 pyparsing-3.0.7 python-dateutil-2.8.2 pytz-2021.3 requests-2.27.1 scikit-learn-1.0.2 scipy-1.7.3 seaborn-0.11.2 six-1.16.0 statsmodels-0.13.1 tabulate-0.8.9 threadpoolctl-3.0.0 typing-extensions-4.0.1 urllib3-1.26.8 xarray-0.20.2 zipp-3.7.0\n",
            "\u001b[33mWARNING: Target directory /content/packages/pandas-1.3.5.dist-info already exists. Specify --upgrade to force replacement.\u001b[0m\n",
            "\u001b[33mWARNING: Target directory /content/packages/certifi already exists. Specify --upgrade to force replacement.\u001b[0m\n",
            "\u001b[33mWARNING: Target directory /content/packages/pytz already exists. Specify --upgrade to force replacement.\u001b[0m\n",
            "\u001b[33mWARNING: Target directory /content/packages/idna-3.3.dist-info already exists. Specify --upgrade to force replacement.\u001b[0m\n",
            "\u001b[33mWARNING: Target directory /content/packages/numpy already exists. Specify --upgrade to force replacement.\u001b[0m\n",
            "\u001b[33mWARNING: Target directory /content/packages/python_dateutil-2.8.2.dist-info already exists. Specify --upgrade to force replacement.\u001b[0m\n",
            "\u001b[33mWARNING: Target directory /content/packages/requests-2.27.1.dist-info already exists. Specify --upgrade to force replacement.\u001b[0m\n",
            "\u001b[33mWARNING: Target directory /content/packages/idna already exists. Specify --upgrade to force replacement.\u001b[0m\n",
            "\u001b[33mWARNING: Target directory /content/packages/charset_normalizer-2.0.10.dist-info already exists. Specify --upgrade to force replacement.\u001b[0m\n",
            "\u001b[33mWARNING: Target directory /content/packages/urllib3-1.26.8.dist-info already exists. Specify --upgrade to force replacement.\u001b[0m\n",
            "\u001b[33mWARNING: Target directory /content/packages/requests already exists. Specify --upgrade to force replacement.\u001b[0m\n",
            "\u001b[33mWARNING: Target directory /content/packages/charset_normalizer already exists. Specify --upgrade to force replacement.\u001b[0m\n",
            "\u001b[33mWARNING: Target directory /content/packages/six-1.16.0.dist-info already exists. Specify --upgrade to force replacement.\u001b[0m\n",
            "\u001b[33mWARNING: Target directory /content/packages/numpy.libs already exists. Specify --upgrade to force replacement.\u001b[0m\n",
            "\u001b[33mWARNING: Target directory /content/packages/numpy-1.21.5.dist-info already exists. Specify --upgrade to force replacement.\u001b[0m\n",
            "\u001b[33mWARNING: Target directory /content/packages/certifi-2021.10.8.dist-info already exists. Specify --upgrade to force replacement.\u001b[0m\n",
            "\u001b[33mWARNING: Target directory /content/packages/six.py already exists. Specify --upgrade to force replacement.\u001b[0m\n",
            "\u001b[33mWARNING: Target directory /content/packages/dateutil already exists. Specify --upgrade to force replacement.\u001b[0m\n",
            "\u001b[33mWARNING: Target directory /content/packages/pandas already exists. Specify --upgrade to force replacement.\u001b[0m\n",
            "\u001b[33mWARNING: Target directory /content/packages/pytz-2021.3.dist-info already exists. Specify --upgrade to force replacement.\u001b[0m\n",
            "\u001b[33mWARNING: Target directory /content/packages/__pycache__ already exists. Specify --upgrade to force replacement.\u001b[0m\n",
            "\u001b[33mWARNING: Target directory /content/packages/urllib3 already exists. Specify --upgrade to force replacement.\u001b[0m\n",
            "\u001b[33mWARNING: Target directory /content/packages/bin already exists. Specify --upgrade to force replacement.\u001b[0m\n"
          ]
        },
        {
          "output_type": "display_data",
          "data": {
            "application/vnd.colab-display-data+json": {
              "pip_warning": {
                "packages": [
                  "certifi",
                  "charset_normalizer",
                  "cycler",
                  "dateutil",
                  "joblib",
                  "kiwisolver",
                  "packaging",
                  "seaborn",
                  "sklearn",
                  "zipp"
                ]
              }
            }
          },
          "metadata": {}
        }
      ]
    },
    {
      "cell_type": "code",
      "execution_count": 3,
      "id": "5c3b18be",
      "metadata": {
        "ExecuteTime": {
          "end_time": "2022-01-22T08:42:49.406979Z",
          "start_time": "2022-01-22T08:42:46.897291Z"
        },
        "id": "5c3b18be"
      },
      "outputs": [],
      "source": [
        "# unitility\n",
        "import os, warnings\n",
        "from copy import deepcopy\n",
        "from datetime import datetime\n",
        "\n",
        "# stock price data load\n",
        "import yfinance as yf\n",
        "\n",
        "# data handling\n",
        "import pandas as pd\n",
        "from pandas_datareader import data as dfr\n",
        "import numpy as np\n",
        "\n",
        "# modeling\n",
        "import sklearn  # from sklearn import preprocessing, feature_selection, linear_model, svm, metrics, model_selection\n",
        "import tensorflow as tf\n",
        "from fbprophet import Prophet\n",
        "\n",
        "# visualization\n",
        "import matplotlib as mpl\n",
        "import matplotlib.pyplot as plt\n",
        "import pylab as pl\n",
        "import seaborn as sns\n",
        "from IPython.core.display import display, HTML\n",
        "from IPython.display import Image"
      ]
    },
    {
      "cell_type": "code",
      "execution_count": 4,
      "id": "62255eb0",
      "metadata": {
        "ExecuteTime": {
          "end_time": "2022-01-22T08:42:49.411163Z",
          "start_time": "2022-01-22T08:42:49.407623Z"
        },
        "id": "62255eb0"
      },
      "outputs": [],
      "source": [
        "#plot setting\n",
        "plt.style.use('seaborn')  # plt.style.use('ggplot')\n",
        "sns.set(font_scale=1.5)\n",
        "\n",
        "plt.rc('font', family='AppleGothic') \n",
        "plt.rcParams['figure.figsize'] = [10, 5]\n",
        "mpl.rcParams['axes.unicode_minus'] = False  \n",
        "\n",
        "%matplotlib inline\n",
        "\n",
        "#ignore warnings\n",
        "warnings.filterwarnings('ignore') # 워닝 메세지를 생략해 줍니다. 차후 버전관리를 위해 필요한 정보라고 생각하시면 주석처리 하시면 됩니다."
      ]
    },
    {
      "cell_type": "code",
      "execution_count": 5,
      "id": "ecb28fd7",
      "metadata": {
        "ExecuteTime": {
          "end_time": "2022-01-22T08:42:49.413658Z",
          "start_time": "2022-01-22T08:42:49.412237Z"
        },
        "id": "ecb28fd7"
      },
      "outputs": [],
      "source": [
        "# path setting\n",
        "proj_dir = os.getcwd()\n",
        "# data_dir = (os.getcwd() +  '/titanic')\n",
        "os.chdir(proj_dir)"
      ]
    },
    {
      "cell_type": "markdown",
      "id": "2d1032cc",
      "metadata": {
        "id": "2d1032cc"
      },
      "source": [
        "## Load Data"
      ]
    },
    {
      "cell_type": "code",
      "execution_count": 6,
      "id": "4a2370bf",
      "metadata": {
        "ExecuteTime": {
          "end_time": "2022-01-22T08:42:49.415568Z",
          "start_time": "2022-01-22T08:42:49.414229Z"
        },
        "id": "4a2370bf"
      },
      "outputs": [],
      "source": [
        "yf.pdr_override()"
      ]
    },
    {
      "cell_type": "code",
      "execution_count": 7,
      "id": "6407e098",
      "metadata": {
        "ExecuteTime": {
          "end_time": "2022-01-22T08:42:49.417701Z",
          "start_time": "2022-01-22T08:42:49.416230Z"
        },
        "id": "6407e098"
      },
      "outputs": [],
      "source": [
        "start_date= \"2018-01-01\"\n",
        "end_date=\"2022-01-23\""
      ]
    },
    {
      "cell_type": "code",
      "execution_count": 8,
      "id": "d9731e83",
      "metadata": {
        "ExecuteTime": {
          "end_time": "2022-01-22T08:42:49.677496Z",
          "start_time": "2022-01-22T08:42:49.418349Z"
        },
        "colab": {
          "base_uri": "https://localhost:8080/"
        },
        "id": "d9731e83",
        "outputId": "0d2df4c4-ab41-4b04-a637-2daed420adae"
      },
      "outputs": [
        {
          "output_type": "stream",
          "name": "stdout",
          "text": [
            "\r[*********************100%***********************]  1 of 1 completed\n"
          ]
        }
      ],
      "source": [
        "kko = dfr.get_data_yahoo(tickers = '035720.KS', start = start_date, end = end_date)"
      ]
    },
    {
      "cell_type": "markdown",
      "id": "157b9976",
      "metadata": {
        "id": "157b9976"
      },
      "source": [
        "## Glimpse"
      ]
    },
    {
      "cell_type": "code",
      "execution_count": 9,
      "id": "ef9337ec",
      "metadata": {
        "ExecuteTime": {
          "end_time": "2022-01-22T08:42:49.685499Z",
          "start_time": "2022-01-22T08:42:49.678293Z"
        },
        "colab": {
          "base_uri": "https://localhost:8080/",
          "height": 175
        },
        "id": "ef9337ec",
        "outputId": "7362c51a-ff4d-46fc-d3d1-a54111a07b34"
      },
      "outputs": [
        {
          "output_type": "execute_result",
          "data": {
            "text/html": [
              "\n",
              "  <div id=\"df-9eaf60f3-01ed-4532-8139-d2cd5333724c\">\n",
              "    <div class=\"colab-df-container\">\n",
              "      <div>\n",
              "<style scoped>\n",
              "    .dataframe tbody tr th:only-of-type {\n",
              "        vertical-align: middle;\n",
              "    }\n",
              "\n",
              "    .dataframe tbody tr th {\n",
              "        vertical-align: top;\n",
              "    }\n",
              "\n",
              "    .dataframe thead th {\n",
              "        text-align: right;\n",
              "    }\n",
              "</style>\n",
              "<table border=\"1\" class=\"dataframe\">\n",
              "  <thead>\n",
              "    <tr style=\"text-align: right;\">\n",
              "      <th></th>\n",
              "      <th>Open</th>\n",
              "      <th>High</th>\n",
              "      <th>Low</th>\n",
              "      <th>Close</th>\n",
              "      <th>Adj Close</th>\n",
              "      <th>Volume</th>\n",
              "    </tr>\n",
              "    <tr>\n",
              "      <th>Date</th>\n",
              "      <th></th>\n",
              "      <th></th>\n",
              "      <th></th>\n",
              "      <th></th>\n",
              "      <th></th>\n",
              "      <th></th>\n",
              "    </tr>\n",
              "  </thead>\n",
              "  <tbody>\n",
              "    <tr>\n",
              "      <th>2018-01-02</th>\n",
              "      <td>28000.0</td>\n",
              "      <td>29400.0</td>\n",
              "      <td>27900.0</td>\n",
              "      <td>29300.0</td>\n",
              "      <td>29225.351562</td>\n",
              "      <td>6729755</td>\n",
              "    </tr>\n",
              "    <tr>\n",
              "      <th>2018-01-03</th>\n",
              "      <td>30100.0</td>\n",
              "      <td>30200.0</td>\n",
              "      <td>29100.0</td>\n",
              "      <td>29800.0</td>\n",
              "      <td>29724.078125</td>\n",
              "      <td>5771805</td>\n",
              "    </tr>\n",
              "    <tr>\n",
              "      <th>2018-01-04</th>\n",
              "      <td>30500.0</td>\n",
              "      <td>31800.0</td>\n",
              "      <td>29900.0</td>\n",
              "      <td>31200.0</td>\n",
              "      <td>31120.513672</td>\n",
              "      <td>11325095</td>\n",
              "    </tr>\n",
              "  </tbody>\n",
              "</table>\n",
              "</div>\n",
              "      <button class=\"colab-df-convert\" onclick=\"convertToInteractive('df-9eaf60f3-01ed-4532-8139-d2cd5333724c')\"\n",
              "              title=\"Convert this dataframe to an interactive table.\"\n",
              "              style=\"display:none;\">\n",
              "        \n",
              "  <svg xmlns=\"http://www.w3.org/2000/svg\" height=\"24px\"viewBox=\"0 0 24 24\"\n",
              "       width=\"24px\">\n",
              "    <path d=\"M0 0h24v24H0V0z\" fill=\"none\"/>\n",
              "    <path d=\"M18.56 5.44l.94 2.06.94-2.06 2.06-.94-2.06-.94-.94-2.06-.94 2.06-2.06.94zm-11 1L8.5 8.5l.94-2.06 2.06-.94-2.06-.94L8.5 2.5l-.94 2.06-2.06.94zm10 10l.94 2.06.94-2.06 2.06-.94-2.06-.94-.94-2.06-.94 2.06-2.06.94z\"/><path d=\"M17.41 7.96l-1.37-1.37c-.4-.4-.92-.59-1.43-.59-.52 0-1.04.2-1.43.59L10.3 9.45l-7.72 7.72c-.78.78-.78 2.05 0 2.83L4 21.41c.39.39.9.59 1.41.59.51 0 1.02-.2 1.41-.59l7.78-7.78 2.81-2.81c.8-.78.8-2.07 0-2.86zM5.41 20L4 18.59l7.72-7.72 1.47 1.35L5.41 20z\"/>\n",
              "  </svg>\n",
              "      </button>\n",
              "      \n",
              "  <style>\n",
              "    .colab-df-container {\n",
              "      display:flex;\n",
              "      flex-wrap:wrap;\n",
              "      gap: 12px;\n",
              "    }\n",
              "\n",
              "    .colab-df-convert {\n",
              "      background-color: #E8F0FE;\n",
              "      border: none;\n",
              "      border-radius: 50%;\n",
              "      cursor: pointer;\n",
              "      display: none;\n",
              "      fill: #1967D2;\n",
              "      height: 32px;\n",
              "      padding: 0 0 0 0;\n",
              "      width: 32px;\n",
              "    }\n",
              "\n",
              "    .colab-df-convert:hover {\n",
              "      background-color: #E2EBFA;\n",
              "      box-shadow: 0px 1px 2px rgba(60, 64, 67, 0.3), 0px 1px 3px 1px rgba(60, 64, 67, 0.15);\n",
              "      fill: #174EA6;\n",
              "    }\n",
              "\n",
              "    [theme=dark] .colab-df-convert {\n",
              "      background-color: #3B4455;\n",
              "      fill: #D2E3FC;\n",
              "    }\n",
              "\n",
              "    [theme=dark] .colab-df-convert:hover {\n",
              "      background-color: #434B5C;\n",
              "      box-shadow: 0px 1px 3px 1px rgba(0, 0, 0, 0.15);\n",
              "      filter: drop-shadow(0px 1px 2px rgba(0, 0, 0, 0.3));\n",
              "      fill: #FFFFFF;\n",
              "    }\n",
              "  </style>\n",
              "\n",
              "      <script>\n",
              "        const buttonEl =\n",
              "          document.querySelector('#df-9eaf60f3-01ed-4532-8139-d2cd5333724c button.colab-df-convert');\n",
              "        buttonEl.style.display =\n",
              "          google.colab.kernel.accessAllowed ? 'block' : 'none';\n",
              "\n",
              "        async function convertToInteractive(key) {\n",
              "          const element = document.querySelector('#df-9eaf60f3-01ed-4532-8139-d2cd5333724c');\n",
              "          const dataTable =\n",
              "            await google.colab.kernel.invokeFunction('convertToInteractive',\n",
              "                                                     [key], {});\n",
              "          if (!dataTable) return;\n",
              "\n",
              "          const docLinkHtml = 'Like what you see? Visit the ' +\n",
              "            '<a target=\"_blank\" href=https://colab.research.google.com/notebooks/data_table.ipynb>data table notebook</a>'\n",
              "            + ' to learn more about interactive tables.';\n",
              "          element.innerHTML = '';\n",
              "          dataTable['output_type'] = 'display_data';\n",
              "          await google.colab.output.renderOutput(dataTable, element);\n",
              "          const docLink = document.createElement('div');\n",
              "          docLink.innerHTML = docLinkHtml;\n",
              "          element.appendChild(docLink);\n",
              "        }\n",
              "      </script>\n",
              "    </div>\n",
              "  </div>\n",
              "  "
            ],
            "text/plain": [
              "               Open     High      Low    Close     Adj Close    Volume\n",
              "Date                                                                  \n",
              "2018-01-02  28000.0  29400.0  27900.0  29300.0  29225.351562   6729755\n",
              "2018-01-03  30100.0  30200.0  29100.0  29800.0  29724.078125   5771805\n",
              "2018-01-04  30500.0  31800.0  29900.0  31200.0  31120.513672  11325095"
            ]
          },
          "metadata": {},
          "execution_count": 9
        }
      ],
      "source": [
        "kko.head(3)"
      ]
    },
    {
      "cell_type": "code",
      "execution_count": 10,
      "id": "3aa7be35",
      "metadata": {
        "ExecuteTime": {
          "end_time": "2022-01-22T08:42:49.697040Z",
          "start_time": "2022-01-22T08:42:49.686152Z"
        },
        "colab": {
          "base_uri": "https://localhost:8080/",
          "height": 300
        },
        "id": "3aa7be35",
        "outputId": "2671b649-6d60-4cd3-e7e1-9428025a8239"
      },
      "outputs": [
        {
          "output_type": "execute_result",
          "data": {
            "text/html": [
              "\n",
              "  <div id=\"df-ae0056f1-8a02-4c1c-ad5b-02a038b67785\">\n",
              "    <div class=\"colab-df-container\">\n",
              "      <div>\n",
              "<style scoped>\n",
              "    .dataframe tbody tr th:only-of-type {\n",
              "        vertical-align: middle;\n",
              "    }\n",
              "\n",
              "    .dataframe tbody tr th {\n",
              "        vertical-align: top;\n",
              "    }\n",
              "\n",
              "    .dataframe thead th {\n",
              "        text-align: right;\n",
              "    }\n",
              "</style>\n",
              "<table border=\"1\" class=\"dataframe\">\n",
              "  <thead>\n",
              "    <tr style=\"text-align: right;\">\n",
              "      <th></th>\n",
              "      <th>Open</th>\n",
              "      <th>High</th>\n",
              "      <th>Low</th>\n",
              "      <th>Close</th>\n",
              "      <th>Adj Close</th>\n",
              "      <th>Volume</th>\n",
              "    </tr>\n",
              "  </thead>\n",
              "  <tbody>\n",
              "    <tr>\n",
              "      <th>count</th>\n",
              "      <td>1000.000000</td>\n",
              "      <td>1000.000000</td>\n",
              "      <td>1000.000000</td>\n",
              "      <td>1000.000000</td>\n",
              "      <td>1000.000000</td>\n",
              "      <td>1.000000e+03</td>\n",
              "    </tr>\n",
              "    <tr>\n",
              "      <th>mean</th>\n",
              "      <td>57246.800000</td>\n",
              "      <td>58160.140000</td>\n",
              "      <td>56372.060000</td>\n",
              "      <td>57246.480000</td>\n",
              "      <td>57218.610314</td>\n",
              "      <td>3.404517e+06</td>\n",
              "    </tr>\n",
              "    <tr>\n",
              "      <th>std</th>\n",
              "      <td>42238.035113</td>\n",
              "      <td>42895.499179</td>\n",
              "      <td>41584.792031</td>\n",
              "      <td>42195.110482</td>\n",
              "      <td>42211.957935</td>\n",
              "      <td>2.647530e+06</td>\n",
              "    </tr>\n",
              "    <tr>\n",
              "      <th>min</th>\n",
              "      <td>17200.000000</td>\n",
              "      <td>18220.000000</td>\n",
              "      <td>17200.000000</td>\n",
              "      <td>17520.000000</td>\n",
              "      <td>17475.363281</td>\n",
              "      <td>0.000000e+00</td>\n",
              "    </tr>\n",
              "    <tr>\n",
              "      <th>25%</th>\n",
              "      <td>24400.000000</td>\n",
              "      <td>24800.000000</td>\n",
              "      <td>24000.000000</td>\n",
              "      <td>24375.000000</td>\n",
              "      <td>24320.723145</td>\n",
              "      <td>1.697571e+06</td>\n",
              "    </tr>\n",
              "    <tr>\n",
              "      <th>50%</th>\n",
              "      <td>31300.000000</td>\n",
              "      <td>31800.000000</td>\n",
              "      <td>30900.000000</td>\n",
              "      <td>31400.000000</td>\n",
              "      <td>31340.220703</td>\n",
              "      <td>2.581650e+06</td>\n",
              "    </tr>\n",
              "    <tr>\n",
              "      <th>75%</th>\n",
              "      <td>89625.000000</td>\n",
              "      <td>91500.000000</td>\n",
              "      <td>87225.000000</td>\n",
              "      <td>88875.000000</td>\n",
              "      <td>88875.000000</td>\n",
              "      <td>4.201070e+06</td>\n",
              "    </tr>\n",
              "    <tr>\n",
              "      <th>max</th>\n",
              "      <td>172000.000000</td>\n",
              "      <td>173000.000000</td>\n",
              "      <td>161000.000000</td>\n",
              "      <td>169500.000000</td>\n",
              "      <td>169500.000000</td>\n",
              "      <td>2.611002e+07</td>\n",
              "    </tr>\n",
              "  </tbody>\n",
              "</table>\n",
              "</div>\n",
              "      <button class=\"colab-df-convert\" onclick=\"convertToInteractive('df-ae0056f1-8a02-4c1c-ad5b-02a038b67785')\"\n",
              "              title=\"Convert this dataframe to an interactive table.\"\n",
              "              style=\"display:none;\">\n",
              "        \n",
              "  <svg xmlns=\"http://www.w3.org/2000/svg\" height=\"24px\"viewBox=\"0 0 24 24\"\n",
              "       width=\"24px\">\n",
              "    <path d=\"M0 0h24v24H0V0z\" fill=\"none\"/>\n",
              "    <path d=\"M18.56 5.44l.94 2.06.94-2.06 2.06-.94-2.06-.94-.94-2.06-.94 2.06-2.06.94zm-11 1L8.5 8.5l.94-2.06 2.06-.94-2.06-.94L8.5 2.5l-.94 2.06-2.06.94zm10 10l.94 2.06.94-2.06 2.06-.94-2.06-.94-.94-2.06-.94 2.06-2.06.94z\"/><path d=\"M17.41 7.96l-1.37-1.37c-.4-.4-.92-.59-1.43-.59-.52 0-1.04.2-1.43.59L10.3 9.45l-7.72 7.72c-.78.78-.78 2.05 0 2.83L4 21.41c.39.39.9.59 1.41.59.51 0 1.02-.2 1.41-.59l7.78-7.78 2.81-2.81c.8-.78.8-2.07 0-2.86zM5.41 20L4 18.59l7.72-7.72 1.47 1.35L5.41 20z\"/>\n",
              "  </svg>\n",
              "      </button>\n",
              "      \n",
              "  <style>\n",
              "    .colab-df-container {\n",
              "      display:flex;\n",
              "      flex-wrap:wrap;\n",
              "      gap: 12px;\n",
              "    }\n",
              "\n",
              "    .colab-df-convert {\n",
              "      background-color: #E8F0FE;\n",
              "      border: none;\n",
              "      border-radius: 50%;\n",
              "      cursor: pointer;\n",
              "      display: none;\n",
              "      fill: #1967D2;\n",
              "      height: 32px;\n",
              "      padding: 0 0 0 0;\n",
              "      width: 32px;\n",
              "    }\n",
              "\n",
              "    .colab-df-convert:hover {\n",
              "      background-color: #E2EBFA;\n",
              "      box-shadow: 0px 1px 2px rgba(60, 64, 67, 0.3), 0px 1px 3px 1px rgba(60, 64, 67, 0.15);\n",
              "      fill: #174EA6;\n",
              "    }\n",
              "\n",
              "    [theme=dark] .colab-df-convert {\n",
              "      background-color: #3B4455;\n",
              "      fill: #D2E3FC;\n",
              "    }\n",
              "\n",
              "    [theme=dark] .colab-df-convert:hover {\n",
              "      background-color: #434B5C;\n",
              "      box-shadow: 0px 1px 3px 1px rgba(0, 0, 0, 0.15);\n",
              "      filter: drop-shadow(0px 1px 2px rgba(0, 0, 0, 0.3));\n",
              "      fill: #FFFFFF;\n",
              "    }\n",
              "  </style>\n",
              "\n",
              "      <script>\n",
              "        const buttonEl =\n",
              "          document.querySelector('#df-ae0056f1-8a02-4c1c-ad5b-02a038b67785 button.colab-df-convert');\n",
              "        buttonEl.style.display =\n",
              "          google.colab.kernel.accessAllowed ? 'block' : 'none';\n",
              "\n",
              "        async function convertToInteractive(key) {\n",
              "          const element = document.querySelector('#df-ae0056f1-8a02-4c1c-ad5b-02a038b67785');\n",
              "          const dataTable =\n",
              "            await google.colab.kernel.invokeFunction('convertToInteractive',\n",
              "                                                     [key], {});\n",
              "          if (!dataTable) return;\n",
              "\n",
              "          const docLinkHtml = 'Like what you see? Visit the ' +\n",
              "            '<a target=\"_blank\" href=https://colab.research.google.com/notebooks/data_table.ipynb>data table notebook</a>'\n",
              "            + ' to learn more about interactive tables.';\n",
              "          element.innerHTML = '';\n",
              "          dataTable['output_type'] = 'display_data';\n",
              "          await google.colab.output.renderOutput(dataTable, element);\n",
              "          const docLink = document.createElement('div');\n",
              "          docLink.innerHTML = docLinkHtml;\n",
              "          element.appendChild(docLink);\n",
              "        }\n",
              "      </script>\n",
              "    </div>\n",
              "  </div>\n",
              "  "
            ],
            "text/plain": [
              "                Open           High  ...      Adj Close        Volume\n",
              "count    1000.000000    1000.000000  ...    1000.000000  1.000000e+03\n",
              "mean    57246.800000   58160.140000  ...   57218.610314  3.404517e+06\n",
              "std     42238.035113   42895.499179  ...   42211.957935  2.647530e+06\n",
              "min     17200.000000   18220.000000  ...   17475.363281  0.000000e+00\n",
              "25%     24400.000000   24800.000000  ...   24320.723145  1.697571e+06\n",
              "50%     31300.000000   31800.000000  ...   31340.220703  2.581650e+06\n",
              "75%     89625.000000   91500.000000  ...   88875.000000  4.201070e+06\n",
              "max    172000.000000  173000.000000  ...  169500.000000  2.611002e+07\n",
              "\n",
              "[8 rows x 6 columns]"
            ]
          },
          "metadata": {},
          "execution_count": 10
        }
      ],
      "source": [
        "kko.describe()"
      ]
    },
    {
      "cell_type": "code",
      "execution_count": 11,
      "id": "a8503f62",
      "metadata": {
        "ExecuteTime": {
          "end_time": "2022-01-22T08:42:49.874236Z",
          "start_time": "2022-01-22T08:42:49.698994Z"
        },
        "colab": {
          "base_uri": "https://localhost:8080/",
          "height": 386
        },
        "id": "a8503f62",
        "outputId": "562d4c6f-f5b5-4052-90db-0146ccca5454"
      },
      "outputs": [
        {
          "output_type": "stream",
          "name": "stderr",
          "text": [
            "findfont: Font family ['AppleGothic'] not found. Falling back to DejaVu Sans.\n",
            "findfont: Font family ['AppleGothic'] not found. Falling back to DejaVu Sans.\n"
          ]
        },
        {
          "output_type": "display_data",
          "data": {
            "image/png": "[encoded data removed]",
            "text/plain": [
              "<Figure size 1080x360 with 1 Axes>"
            ]
          },
          "metadata": {
            "needs_background": "light"
          }
        }
      ],
      "source": [
        "plt.figure(figsize=[15,5])\n",
        "g1 = sns.lineplot(data = kko, x='Date', y='Close')\n",
        "g1.set_ylabel('Price (Won)')\n",
        "g1.set_xlabel('Date')\n",
        "g1.set_title('Stock Price of Kakao Corp')\n",
        "plt.tight_layout()\n",
        "plt.show()"
      ]
    },
    {
      "cell_type": "markdown",
      "id": "c971a144",
      "metadata": {
        "id": "c971a144"
      },
      "source": [
        "## \"fbprophet\" library로 Forecasting 하기"
      ]
    },
    {
      "cell_type": "markdown",
      "id": "c2fdd442",
      "metadata": {
        "id": "c2fdd442"
      },
      "source": [
        "### Data Split"
      ]
    },
    {
      "cell_type": "code",
      "execution_count": 12,
      "id": "b9627cdc",
      "metadata": {
        "ExecuteTime": {
          "end_time": "2022-01-22T08:42:49.881896Z",
          "start_time": "2022-01-22T08:42:49.875448Z"
        },
        "id": "b9627cdc"
      },
      "outputs": [],
      "source": [
        "df = deepcopy(kko)\n",
        "\n",
        "\n",
        "train_df = df[:'2021-8-01'].filter(['Close']).reset_index()\n",
        "test_df = df['2021-8-01':].filter(['Close']).reset_index()"
      ]
    },
    {
      "cell_type": "code",
      "execution_count": 13,
      "id": "df1ab538",
      "metadata": {
        "ExecuteTime": {
          "end_time": "2022-01-22T08:42:49.885156Z",
          "start_time": "2022-01-22T08:42:49.882916Z"
        },
        "colab": {
          "base_uri": "https://localhost:8080/"
        },
        "id": "df1ab538",
        "outputId": "3ac22a07-4c7c-45a5-cd3e-910912d330a4"
      },
      "outputs": [
        {
          "output_type": "stream",
          "name": "stdout",
          "text": [
            "(883, 2) (117, 2)\n"
          ]
        }
      ],
      "source": [
        "print(train_df.shape, test_df.shape)"
      ]
    },
    {
      "cell_type": "markdown",
      "id": "290137b5",
      "metadata": {
        "id": "290137b5"
      },
      "source": [
        "* Prophet에 사용하기 위해 날짜를 ds, 종가를 y로 바꾸어준다."
      ]
    },
    {
      "cell_type": "code",
      "execution_count": 14,
      "id": "7a25f6a4",
      "metadata": {
        "ExecuteTime": {
          "end_time": "2022-01-22T08:42:49.888612Z",
          "start_time": "2022-01-22T08:42:49.886172Z"
        },
        "id": "7a25f6a4"
      },
      "outputs": [],
      "source": [
        "train_df.columns = ['ds', 'y']\n",
        "test_df.columns = ['ds', 'y']"
      ]
    },
    {
      "cell_type": "markdown",
      "id": "7622490b",
      "metadata": {
        "id": "7622490b"
      },
      "source": [
        "### Modeling"
      ]
    },
    {
      "cell_type": "markdown",
      "id": "627f1ec8",
      "metadata": {
        "id": "627f1ec8"
      },
      "source": [
        "* fbprophet 라이브러리의 Prophet API 사용 [[ref]](https://hyperconnect.github.io/2020/03/09/prophet-package.html)\n",
        "* help(Prophet)"
      ]
    },
    {
      "cell_type": "code",
      "execution_count": 15,
      "id": "f63497dd",
      "metadata": {
        "ExecuteTime": {
          "end_time": "2022-01-22T08:42:50.677951Z",
          "start_time": "2022-01-22T08:42:49.889680Z"
        },
        "id": "f63497dd"
      },
      "outputs": [],
      "source": [
        "model = Prophet(yearly_seasonality=True, daily_seasonality=True, weekly_seasonality=True)"
      ]
    },
    {
      "cell_type": "code",
      "execution_count": 16,
      "id": "5d09591a",
      "metadata": {
        "ExecuteTime": {
          "end_time": "2022-01-22T08:42:50.897382Z",
          "start_time": "2022-01-22T08:42:50.678733Z"
        },
        "colab": {
          "base_uri": "https://localhost:8080/"
        },
        "id": "5d09591a",
        "outputId": "aa2ccc41-bbda-44d5-dfbb-e8c65e98c236"
      },
      "outputs": [
        {
          "output_type": "execute_result",
          "data": {
            "text/plain": [
              "<fbprophet.forecaster.Prophet at 0x7fc7ab7b9dd0>"
            ]
          },
          "metadata": {},
          "execution_count": 16
        }
      ],
      "source": [
        "model.fit(train_df)"
      ]
    },
    {
      "cell_type": "markdown",
      "id": "3bdc26b2",
      "metadata": {
        "id": "3bdc26b2"
      },
      "source": [
        "### Prediction"
      ]
    },
    {
      "cell_type": "code",
      "execution_count": 17,
      "id": "3451ff1f",
      "metadata": {
        "ExecuteTime": {
          "end_time": "2022-01-22T08:42:50.900648Z",
          "start_time": "2022-01-22T08:42:50.898060Z"
        },
        "colab": {
          "base_uri": "https://localhost:8080/"
        },
        "id": "3451ff1f",
        "outputId": "c5f76529-cc70-41e7-cbee-2f6abe7aeb24"
      },
      "outputs": [
        {
          "output_type": "execute_result",
          "data": {
            "text/plain": [
              "175"
            ]
          },
          "metadata": {},
          "execution_count": 17
        }
      ],
      "source": [
        "mid = datetime.strptime('2021-8-01', \"%Y-%m-%d\")\n",
        "end = datetime.strptime(end_date, \"%Y-%m-%d\")\n",
        "date_diff = end - mid\n",
        "date_diff.days"
      ]
    },
    {
      "cell_type": "code",
      "execution_count": 18,
      "id": "4bdae880",
      "metadata": {
        "ExecuteTime": {
          "end_time": "2022-01-22T08:42:51.486939Z",
          "start_time": "2022-01-22T08:42:50.901379Z"
        },
        "id": "4bdae880"
      },
      "outputs": [],
      "source": [
        "future_day = model.make_future_dataframe(periods=date_diff.days)\n",
        "pred_df = model.predict(future_day)"
      ]
    },
    {
      "cell_type": "code",
      "execution_count": 19,
      "id": "f80eef21",
      "metadata": {
        "ExecuteTime": {
          "end_time": "2022-01-22T08:42:51.494941Z",
          "start_time": "2022-01-22T08:42:51.487668Z"
        },
        "colab": {
          "base_uri": "https://localhost:8080/",
          "height": 329
        },
        "id": "f80eef21",
        "outputId": "6f775853-3201-430d-bc86-dcd78ec7b8ee"
      },
      "outputs": [
        {
          "output_type": "stream",
          "name": "stdout",
          "text": [
            "(1058, 22)\n"
          ]
        },
        {
          "output_type": "execute_result",
          "data": {
            "text/html": [
              "\n",
              "  <div id=\"df-d194f301-b31f-422a-a15d-da47ec294db0\">\n",
              "    <div class=\"colab-df-container\">\n",
              "      <div>\n",
              "<style scoped>\n",
              "    .dataframe tbody tr th:only-of-type {\n",
              "        vertical-align: middle;\n",
              "    }\n",
              "\n",
              "    .dataframe tbody tr th {\n",
              "        vertical-align: top;\n",
              "    }\n",
              "\n",
              "    .dataframe thead th {\n",
              "        text-align: right;\n",
              "    }\n",
              "</style>\n",
              "<table border=\"1\" class=\"dataframe\">\n",
              "  <thead>\n",
              "    <tr style=\"text-align: right;\">\n",
              "      <th></th>\n",
              "      <th>ds</th>\n",
              "      <th>trend</th>\n",
              "      <th>yhat_lower</th>\n",
              "      <th>yhat_upper</th>\n",
              "      <th>trend_lower</th>\n",
              "      <th>trend_upper</th>\n",
              "      <th>additive_terms</th>\n",
              "      <th>additive_terms_lower</th>\n",
              "      <th>additive_terms_upper</th>\n",
              "      <th>daily</th>\n",
              "      <th>daily_lower</th>\n",
              "      <th>daily_upper</th>\n",
              "      <th>weekly</th>\n",
              "      <th>weekly_lower</th>\n",
              "      <th>weekly_upper</th>\n",
              "      <th>yearly</th>\n",
              "      <th>yearly_lower</th>\n",
              "      <th>yearly_upper</th>\n",
              "      <th>multiplicative_terms</th>\n",
              "      <th>multiplicative_terms_lower</th>\n",
              "      <th>multiplicative_terms_upper</th>\n",
              "      <th>yhat</th>\n",
              "    </tr>\n",
              "  </thead>\n",
              "  <tbody>\n",
              "    <tr>\n",
              "      <th>0</th>\n",
              "      <td>2018-01-02</td>\n",
              "      <td>29801.861640</td>\n",
              "      <td>25046.406796</td>\n",
              "      <td>33316.045261</td>\n",
              "      <td>29801.861640</td>\n",
              "      <td>29801.861640</td>\n",
              "      <td>-536.668374</td>\n",
              "      <td>-536.668374</td>\n",
              "      <td>-536.668374</td>\n",
              "      <td>2537.012388</td>\n",
              "      <td>2537.012388</td>\n",
              "      <td>2537.012388</td>\n",
              "      <td>73.704645</td>\n",
              "      <td>73.704645</td>\n",
              "      <td>73.704645</td>\n",
              "      <td>-3147.385407</td>\n",
              "      <td>-3147.385407</td>\n",
              "      <td>-3147.385407</td>\n",
              "      <td>0.0</td>\n",
              "      <td>0.0</td>\n",
              "      <td>0.0</td>\n",
              "      <td>29265.193266</td>\n",
              "    </tr>\n",
              "    <tr>\n",
              "      <th>1</th>\n",
              "      <td>2018-01-03</td>\n",
              "      <td>29801.670384</td>\n",
              "      <td>25051.031829</td>\n",
              "      <td>33747.115307</td>\n",
              "      <td>29801.670384</td>\n",
              "      <td>29801.670384</td>\n",
              "      <td>-242.613237</td>\n",
              "      <td>-242.613237</td>\n",
              "      <td>-242.613237</td>\n",
              "      <td>2537.012388</td>\n",
              "      <td>2537.012388</td>\n",
              "      <td>2537.012388</td>\n",
              "      <td>267.097792</td>\n",
              "      <td>267.097792</td>\n",
              "      <td>267.097792</td>\n",
              "      <td>-3046.723418</td>\n",
              "      <td>-3046.723418</td>\n",
              "      <td>-3046.723418</td>\n",
              "      <td>0.0</td>\n",
              "      <td>0.0</td>\n",
              "      <td>0.0</td>\n",
              "      <td>29559.057146</td>\n",
              "    </tr>\n",
              "    <tr>\n",
              "      <th>2</th>\n",
              "      <td>2018-01-04</td>\n",
              "      <td>29801.479128</td>\n",
              "      <td>25162.539907</td>\n",
              "      <td>33671.142478</td>\n",
              "      <td>29801.479128</td>\n",
              "      <td>29801.479128</td>\n",
              "      <td>-162.835642</td>\n",
              "      <td>-162.835642</td>\n",
              "      <td>-162.835642</td>\n",
              "      <td>2537.012388</td>\n",
              "      <td>2537.012388</td>\n",
              "      <td>2537.012388</td>\n",
              "      <td>248.246543</td>\n",
              "      <td>248.246543</td>\n",
              "      <td>248.246543</td>\n",
              "      <td>-2948.094574</td>\n",
              "      <td>-2948.094574</td>\n",
              "      <td>-2948.094574</td>\n",
              "      <td>0.0</td>\n",
              "      <td>0.0</td>\n",
              "      <td>0.0</td>\n",
              "      <td>29638.643485</td>\n",
              "    </tr>\n",
              "  </tbody>\n",
              "</table>\n",
              "</div>\n",
              "      <button class=\"colab-df-convert\" onclick=\"convertToInteractive('df-d194f301-b31f-422a-a15d-da47ec294db0')\"\n",
              "              title=\"Convert this dataframe to an interactive table.\"\n",
              "              style=\"display:none;\">\n",
              "        \n",
              "  <svg xmlns=\"http://www.w3.org/2000/svg\" height=\"24px\"viewBox=\"0 0 24 24\"\n",
              "       width=\"24px\">\n",
              "    <path d=\"M0 0h24v24H0V0z\" fill=\"none\"/>\n",
              "    <path d=\"M18.56 5.44l.94 2.06.94-2.06 2.06-.94-2.06-.94-.94-2.06-.94 2.06-2.06.94zm-11 1L8.5 8.5l.94-2.06 2.06-.94-2.06-.94L8.5 2.5l-.94 2.06-2.06.94zm10 10l.94 2.06.94-2.06 2.06-.94-2.06-.94-.94-2.06-.94 2.06-2.06.94z\"/><path d=\"M17.41 7.96l-1.37-1.37c-.4-.4-.92-.59-1.43-.59-.52 0-1.04.2-1.43.59L10.3 9.45l-7.72 7.72c-.78.78-.78 2.05 0 2.83L4 21.41c.39.39.9.59 1.41.59.51 0 1.02-.2 1.41-.59l7.78-7.78 2.81-2.81c.8-.78.8-2.07 0-2.86zM5.41 20L4 18.59l7.72-7.72 1.47 1.35L5.41 20z\"/>\n",
              "  </svg>\n",
              "      </button>\n",
              "      \n",
              "  <style>\n",
              "    .colab-df-container {\n",
              "      display:flex;\n",
              "      flex-wrap:wrap;\n",
              "      gap: 12px;\n",
              "    }\n",
              "\n",
              "    .colab-df-convert {\n",
              "      background-color: #E8F0FE;\n",
              "      border: none;\n",
              "      border-radius: 50%;\n",
              "      cursor: pointer;\n",
              "      display: none;\n",
              "      fill: #1967D2;\n",
              "      height: 32px;\n",
              "      padding: 0 0 0 0;\n",
              "      width: 32px;\n",
              "    }\n",
              "\n",
              "    .colab-df-convert:hover {\n",
              "      background-color: #E2EBFA;\n",
              "      box-shadow: 0px 1px 2px rgba(60, 64, 67, 0.3), 0px 1px 3px 1px rgba(60, 64, 67, 0.15);\n",
              "      fill: #174EA6;\n",
              "    }\n",
              "\n",
              "    [theme=dark] .colab-df-convert {\n",
              "      background-color: #3B4455;\n",
              "      fill: #D2E3FC;\n",
              "    }\n",
              "\n",
              "    [theme=dark] .colab-df-convert:hover {\n",
              "      background-color: #434B5C;\n",
              "      box-shadow: 0px 1px 3px 1px rgba(0, 0, 0, 0.15);\n",
              "      filter: drop-shadow(0px 1px 2px rgba(0, 0, 0, 0.3));\n",
              "      fill: #FFFFFF;\n",
              "    }\n",
              "  </style>\n",
              "\n",
              "      <script>\n",
              "        const buttonEl =\n",
              "          document.querySelector('#df-d194f301-b31f-422a-a15d-da47ec294db0 button.colab-df-convert');\n",
              "        buttonEl.style.display =\n",
              "          google.colab.kernel.accessAllowed ? 'block' : 'none';\n",
              "\n",
              "        async function convertToInteractive(key) {\n",
              "          const element = document.querySelector('#df-d194f301-b31f-422a-a15d-da47ec294db0');\n",
              "          const dataTable =\n",
              "            await google.colab.kernel.invokeFunction('convertToInteractive',\n",
              "                                                     [key], {});\n",
              "          if (!dataTable) return;\n",
              "\n",
              "          const docLinkHtml = 'Like what you see? Visit the ' +\n",
              "            '<a target=\"_blank\" href=https://colab.research.google.com/notebooks/data_table.ipynb>data table notebook</a>'\n",
              "            + ' to learn more about interactive tables.';\n",
              "          element.innerHTML = '';\n",
              "          dataTable['output_type'] = 'display_data';\n",
              "          await google.colab.output.renderOutput(dataTable, element);\n",
              "          const docLink = document.createElement('div');\n",
              "          docLink.innerHTML = docLinkHtml;\n",
              "          element.appendChild(docLink);\n",
              "        }\n",
              "      </script>\n",
              "    </div>\n",
              "  </div>\n",
              "  "
            ],
            "text/plain": [
              "          ds         trend  ...  multiplicative_terms_upper          yhat\n",
              "0 2018-01-02  29801.861640  ...                         0.0  29265.193266\n",
              "1 2018-01-03  29801.670384  ...                         0.0  29559.057146\n",
              "2 2018-01-04  29801.479128  ...                         0.0  29638.643485\n",
              "\n",
              "[3 rows x 22 columns]"
            ]
          },
          "metadata": {},
          "execution_count": 19
        }
      ],
      "source": [
        "print(pred_df.shape)\n",
        "pred_df.head(3)"
      ]
    },
    {
      "cell_type": "code",
      "execution_count": 20,
      "id": "0e536c71",
      "metadata": {
        "ExecuteTime": {
          "end_time": "2022-01-22T08:42:51.625631Z",
          "start_time": "2022-01-22T08:42:51.495570Z"
        },
        "colab": {
          "base_uri": "https://localhost:8080/",
          "height": 351
        },
        "id": "0e536c71",
        "outputId": "9ead48b4-0992-48d5-bae7-970bc9e85a99"
      },
      "outputs": [
        {
          "output_type": "display_data",
          "data": {
            "image/png": "[encoded data removed]",
            "text/plain": [
              "<Figure size 1080x360 with 1 Axes>"
            ]
          },
          "metadata": {}
        }
      ],
      "source": [
        "model.plot(pred_df[[\"ds\", \"yhat\", \"yhat_lower\", \"yhat_upper\"]], figsize=(15, 5));"
      ]
    },
    {
      "cell_type": "markdown",
      "id": "f2ade6c0",
      "metadata": {
        "id": "f2ade6c0"
      },
      "source": [
        "### Performance Check"
      ]
    },
    {
      "cell_type": "markdown",
      "id": "6459cf4f",
      "metadata": {
        "id": "6459cf4f"
      },
      "source": [
        "* "
      ]
    },
    {
      "cell_type": "code",
      "execution_count": 21,
      "id": "eef7e6ee",
      "metadata": {
        "ExecuteTime": {
          "end_time": "2022-01-22T08:42:51.629612Z",
          "start_time": "2022-01-22T08:42:51.626985Z"
        },
        "id": "eef7e6ee"
      },
      "outputs": [],
      "source": [
        "df_tmp = deepcopy(df.reset_index())\n",
        "df_tmp = df_tmp.filter(['Date', 'Close', 'High', 'Low'])\n",
        "df_tmp.columns = ['ds', 'y', 'High', 'Low']"
      ]
    },
    {
      "cell_type": "code",
      "execution_count": 22,
      "id": "858d65a2",
      "metadata": {
        "ExecuteTime": {
          "end_time": "2022-01-22T08:42:51.813006Z",
          "start_time": "2022-01-22T08:42:51.630791Z"
        },
        "colab": {
          "base_uri": "https://localhost:8080/",
          "height": 351
        },
        "id": "858d65a2",
        "outputId": "e0cc3d91-3420-4998-9fd6-fa683b14d0b3"
      },
      "outputs": [
        {
          "output_type": "display_data",
          "data": {
            "image/png": "[encoded data removed]",
            "text/plain": [
              "<Figure size 1080x360 with 1 Axes>"
            ]
          },
          "metadata": {
            "needs_background": "light"
          }
        }
      ],
      "source": [
        "plt.figure(figsize=[15,5])\n",
        "g1 = sns.lineplot(data = df_tmp, x='ds', y='y', color='blue')\n",
        "g1.fill_between(data= df_tmp, x='ds', y1='Low', y2='High', \n",
        "                facecolor='blue', alpha=0.2)\n",
        "\n",
        "g1 = sns.lineplot(data = pred_df, x='ds', y='yhat', color='red')\n",
        "g1.fill_between(data= pred_df, x='ds', y1='yhat_lower', y2='yhat_upper', \n",
        "                facecolor='red', alpha=0.2)\n",
        "g1.set_ylabel('Price (Won)')\n",
        "g1.set_xlabel('Date')\n",
        "g1.set_title('Stock Price of Kakao Corp')\n",
        "plt.tight_layout()\n",
        "plt.show()"
      ]
    },
    {
      "cell_type": "code",
      "execution_count": 23,
      "id": "fb4477ab",
      "metadata": {
        "ExecuteTime": {
          "end_time": "2022-01-22T08:42:51.820043Z",
          "start_time": "2022-01-22T08:42:51.814136Z"
        },
        "id": "fb4477ab"
      },
      "outputs": [],
      "source": [
        "predicted = pd.merge(pred_df, test_df, how = 'right')[['ds','yhat','y']]"
      ]
    },
    {
      "cell_type": "code",
      "execution_count": 24,
      "id": "86186c1a",
      "metadata": {
        "ExecuteTime": {
          "end_time": "2022-01-22T08:42:51.975548Z",
          "start_time": "2022-01-22T08:42:51.820911Z"
        },
        "colab": {
          "base_uri": "https://localhost:8080/",
          "height": 351
        },
        "id": "86186c1a",
        "outputId": "7c64c8e0-948a-45be-bea7-5102e99c71a4"
      },
      "outputs": [
        {
          "output_type": "display_data",
          "data": {
            "image/png": "[encoded data removed]",
            "text/plain": [
              "<Figure size 1080x360 with 1 Axes>"
            ]
          },
          "metadata": {
            "needs_background": "light"
          }
        }
      ],
      "source": [
        "plt.figure(figsize=[15,5])\n",
        "g1 = sns.lineplot(data = predicted, x='ds', y='y', color='blue')\n",
        "g1 = sns.lineplot(data = predicted, x='ds', y='yhat', color='red')\n",
        "g1.set_ylabel('Price (Won)')\n",
        "g1.set_xlabel('Date')\n",
        "g1.set_title('Stock Price of Kakao Corp')\n",
        "plt.tight_layout()\n",
        "plt.show()"
      ]
    },
    {
      "cell_type": "code",
      "execution_count": 28,
      "id": "8d5aa7f4",
      "metadata": {
        "ExecuteTime": {
          "end_time": "2022-01-22T08:42:51.997005Z",
          "start_time": "2022-01-22T08:42:51.976808Z"
        },
        "colab": {
          "base_uri": "https://localhost:8080/"
        },
        "id": "8d5aa7f4",
        "outputId": "b47f80a5-f518-47f7-ad4f-c4c08ec9b173"
      },
      "outputs": [
        {
          "output_type": "stream",
          "name": "stdout",
          "text": [
            "mse : 4085482602.5852118\n",
            "mae : 58150.32809787083\n"
          ]
        }
      ],
      "source": [
        "from sklearn import metrics\n",
        "print('mse :', metrics.mean_squared_error(predicted.y, predicted.yhat))\n",
        "print('mae :', metrics.mean_absolute_error(predicted.y, predicted.yhat))"
      ]
    },
    {
      "cell_type": "code",
      "execution_count": 29,
      "id": "43cf4798",
      "metadata": {
        "ExecuteTime": {
          "end_time": "2022-01-22T08:42:52.078422Z",
          "start_time": "2022-01-22T08:42:51.998729Z"
        },
        "colab": {
          "base_uri": "https://localhost:8080/",
          "height": 81
        },
        "id": "43cf4798",
        "outputId": "332cbf6d-bc4a-43b9-e1f6-70d3a2b3bf1c"
      },
      "outputs": [
        {
          "output_type": "execute_result",
          "data": {
            "text/html": [
              "\n",
              "  <div id=\"df-d184c672-54b1-4ce4-8ccf-16d893688855\">\n",
              "    <div class=\"colab-df-container\">\n",
              "      <div>\n",
              "<style scoped>\n",
              "    .dataframe tbody tr th:only-of-type {\n",
              "        vertical-align: middle;\n",
              "    }\n",
              "\n",
              "    .dataframe tbody tr th {\n",
              "        vertical-align: top;\n",
              "    }\n",
              "\n",
              "    .dataframe thead th {\n",
              "        text-align: right;\n",
              "    }\n",
              "</style>\n",
              "<table border=\"1\" class=\"dataframe\">\n",
              "  <thead>\n",
              "    <tr style=\"text-align: right;\">\n",
              "      <th></th>\n",
              "      <th>n</th>\n",
              "      <th>r</th>\n",
              "      <th>CI95%</th>\n",
              "      <th>p-val</th>\n",
              "      <th>BF10</th>\n",
              "      <th>power</th>\n",
              "    </tr>\n",
              "  </thead>\n",
              "  <tbody>\n",
              "    <tr>\n",
              "      <th>pearson</th>\n",
              "      <td>117</td>\n",
              "      <td>-0.825048</td>\n",
              "      <td>[-0.88, -0.76]</td>\n",
              "      <td>2.776511e-30</td>\n",
              "      <td>1.224e+27</td>\n",
              "      <td>1.0</td>\n",
              "    </tr>\n",
              "  </tbody>\n",
              "</table>\n",
              "</div>\n",
              "      <button class=\"colab-df-convert\" onclick=\"convertToInteractive('df-d184c672-54b1-4ce4-8ccf-16d893688855')\"\n",
              "              title=\"Convert this dataframe to an interactive table.\"\n",
              "              style=\"display:none;\">\n",
              "        \n",
              "  <svg xmlns=\"http://www.w3.org/2000/svg\" height=\"24px\"viewBox=\"0 0 24 24\"\n",
              "       width=\"24px\">\n",
              "    <path d=\"M0 0h24v24H0V0z\" fill=\"none\"/>\n",
              "    <path d=\"M18.56 5.44l.94 2.06.94-2.06 2.06-.94-2.06-.94-.94-2.06-.94 2.06-2.06.94zm-11 1L8.5 8.5l.94-2.06 2.06-.94-2.06-.94L8.5 2.5l-.94 2.06-2.06.94zm10 10l.94 2.06.94-2.06 2.06-.94-2.06-.94-.94-2.06-.94 2.06-2.06.94z\"/><path d=\"M17.41 7.96l-1.37-1.37c-.4-.4-.92-.59-1.43-.59-.52 0-1.04.2-1.43.59L10.3 9.45l-7.72 7.72c-.78.78-.78 2.05 0 2.83L4 21.41c.39.39.9.59 1.41.59.51 0 1.02-.2 1.41-.59l7.78-7.78 2.81-2.81c.8-.78.8-2.07 0-2.86zM5.41 20L4 18.59l7.72-7.72 1.47 1.35L5.41 20z\"/>\n",
              "  </svg>\n",
              "      </button>\n",
              "      \n",
              "  <style>\n",
              "    .colab-df-container {\n",
              "      display:flex;\n",
              "      flex-wrap:wrap;\n",
              "      gap: 12px;\n",
              "    }\n",
              "\n",
              "    .colab-df-convert {\n",
              "      background-color: #E8F0FE;\n",
              "      border: none;\n",
              "      border-radius: 50%;\n",
              "      cursor: pointer;\n",
              "      display: none;\n",
              "      fill: #1967D2;\n",
              "      height: 32px;\n",
              "      padding: 0 0 0 0;\n",
              "      width: 32px;\n",
              "    }\n",
              "\n",
              "    .colab-df-convert:hover {\n",
              "      background-color: #E2EBFA;\n",
              "      box-shadow: 0px 1px 2px rgba(60, 64, 67, 0.3), 0px 1px 3px 1px rgba(60, 64, 67, 0.15);\n",
              "      fill: #174EA6;\n",
              "    }\n",
              "\n",
              "    [theme=dark] .colab-df-convert {\n",
              "      background-color: #3B4455;\n",
              "      fill: #D2E3FC;\n",
              "    }\n",
              "\n",
              "    [theme=dark] .colab-df-convert:hover {\n",
              "      background-color: #434B5C;\n",
              "      box-shadow: 0px 1px 3px 1px rgba(0, 0, 0, 0.15);\n",
              "      filter: drop-shadow(0px 1px 2px rgba(0, 0, 0, 0.3));\n",
              "      fill: #FFFFFF;\n",
              "    }\n",
              "  </style>\n",
              "\n",
              "      <script>\n",
              "        const buttonEl =\n",
              "          document.querySelector('#df-d184c672-54b1-4ce4-8ccf-16d893688855 button.colab-df-convert');\n",
              "        buttonEl.style.display =\n",
              "          google.colab.kernel.accessAllowed ? 'block' : 'none';\n",
              "\n",
              "        async function convertToInteractive(key) {\n",
              "          const element = document.querySelector('#df-d184c672-54b1-4ce4-8ccf-16d893688855');\n",
              "          const dataTable =\n",
              "            await google.colab.kernel.invokeFunction('convertToInteractive',\n",
              "                                                     [key], {});\n",
              "          if (!dataTable) return;\n",
              "\n",
              "          const docLinkHtml = 'Like what you see? Visit the ' +\n",
              "            '<a target=\"_blank\" href=https://colab.research.google.com/notebooks/data_table.ipynb>data table notebook</a>'\n",
              "            + ' to learn more about interactive tables.';\n",
              "          element.innerHTML = '';\n",
              "          dataTable['output_type'] = 'display_data';\n",
              "          await google.colab.output.renderOutput(dataTable, element);\n",
              "          const docLink = document.createElement('div');\n",
              "          docLink.innerHTML = docLinkHtml;\n",
              "          element.appendChild(docLink);\n",
              "        }\n",
              "      </script>\n",
              "    </div>\n",
              "  </div>\n",
              "  "
            ],
            "text/plain": [
              "           n         r           CI95%         p-val       BF10  power\n",
              "pearson  117 -0.825048  [-0.88, -0.76]  2.776511e-30  1.224e+27    1.0"
            ]
          },
          "metadata": {},
          "execution_count": 29
        }
      ],
      "source": [
        "import pingouin as pg\n",
        "pg.corr(predicted.y, predicted.yhat,\n",
        "        alternative=\"two-sided\",\n",
        "        method=\"pearson\") # pearson, spearman, kendall, bicor, percbend, shepherd, skipped"
      ]
    },
    {
      "cell_type": "code",
      "execution_count": 30,
      "id": "28eb894b",
      "metadata": {
        "ExecuteTime": {
          "end_time": "2022-01-22T08:42:52.220331Z",
          "start_time": "2022-01-22T08:42:52.079143Z"
        },
        "colab": {
          "base_uri": "https://localhost:8080/",
          "height": 369
        },
        "id": "28eb894b",
        "outputId": "0400a54b-3394-4750-a8f1-f8f08b43c419"
      },
      "outputs": [
        {
          "output_type": "display_data",
          "data": {
            "image/png": "[encoded data removed]",
            "text/plain": [
              "<Figure size 432x360 with 1 Axes>"
            ]
          },
          "metadata": {
            "needs_background": "light"
          }
        }
      ],
      "source": [
        "g = sns.lmplot(x=\"y\", y=\"yhat\", data=predicted, height=5, aspect=1.2);\n",
        "g.set_axis_labels(\"Actual Price\", \"Predicted Price\")\n",
        "plt.tight_layout()\n",
        "plt.show()"
      ]
    },
    {
      "cell_type": "markdown",
      "id": "634692ba",
      "metadata": {
        "id": "634692ba"
      },
      "source": [
        "## LSTM으로 Forecasting 하기"
      ]
    },
    {
      "cell_type": "markdown",
      "id": "1088fa8d",
      "metadata": {
        "id": "1088fa8d"
      },
      "source": [
        "### Data Preparation"
      ]
    },
    {
      "cell_type": "code",
      "execution_count": 83,
      "id": "e3a08805",
      "metadata": {
        "ExecuteTime": {
          "end_time": "2022-01-22T08:42:52.223899Z",
          "start_time": "2022-01-22T08:42:52.221713Z"
        },
        "id": "e3a08805"
      },
      "outputs": [],
      "source": [
        "df2 = deepcopy(kko)\n",
        "# train_df = df2[:df2[df2.Date == '2021-8-01'].index[0]]\n",
        "# test_df = df2[df2[df2.Date == '2021-8-01'].index[0]:]\n",
        "train_df = df2[:'2021-8-01'].reset_index()\n",
        "test_df = df2['2021-8-01':].reset_index()"
      ]
    },
    {
      "cell_type": "code",
      "source": [
        "from sklearn.preprocessing import MinMaxScaler\n",
        "scaler = MinMaxScaler()\n",
        "scale_cols = ['Open', 'High', 'Low', 'Close', 'Adj Close', 'Volume']\n",
        "train_df_f = scaler.fit_transform(train_df[scale_cols])\n",
        "train_df_f = pd.DataFrame(train_df_f)\n",
        "train_df_f.columns = scale_cols\n",
        "train_df = pd.concat([train_df.Date, train_df_f], axis = 1)\n",
        "\n",
        "\n",
        "test_df_f = scaler.transform(test_df[scale_cols])\n",
        "test_df_f = pd.DataFrame(test_df_f)\n",
        "test_df_f.columns = scale_cols\n",
        "test_df = pd.concat([test_df.Date, test_df_f], axis = 1)\n"
      ],
      "metadata": {
        "id": "Y6aWhraDCbST"
      },
      "id": "Y6aWhraDCbST",
      "execution_count": 84,
      "outputs": []
    },
    {
      "cell_type": "code",
      "source": [
        "plt.figure(figsize=[15,5])\n",
        "g1 = sns.lineplot(data = train_df, x='Date', y='Close', color='blue')\n",
        "g1 = sns.lineplot(data = test_df, x='Date', y='Close', color='red')\n",
        "g1.set_ylabel('Price (Won)')\n",
        "g1.set_xlabel('Date')\n",
        "g1.set_title('Stock Price of Kakao Corp')\n",
        "plt.tight_layout()\n",
        "plt.show()"
      ],
      "metadata": {
        "colab": {
          "base_uri": "https://localhost:8080/",
          "height": 351
        },
        "id": "KTDj_1c6CgPJ",
        "outputId": "eab78e47-3dcd-4dc3-b152-b54714b11839"
      },
      "id": "KTDj_1c6CgPJ",
      "execution_count": 85,
      "outputs": [
        {
          "output_type": "display_data",
          "data": {
            "image/png": "[encoded data removed]",
            "text/plain": [
              "<Figure size 1080x360 with 1 Axes>"
            ]
          },
          "metadata": {
            "needs_background": "light"
          }
        }
      ]
    },
    {
      "cell_type": "code",
      "execution_count": 86,
      "id": "f3eedcd2",
      "metadata": {
        "ExecuteTime": {
          "end_time": "2022-01-22T08:42:52.241397Z",
          "start_time": "2022-01-22T08:42:52.238719Z"
        },
        "id": "f3eedcd2"
      },
      "outputs": [],
      "source": [
        "def make_dataset(data, label, window_size=10):\n",
        "    feature_list = []\n",
        "    label_list = []\n",
        "    for i in range(len(data) - window_size):\n",
        "        feature_list.append(np.array(data.iloc[i:i+window_size]))\n",
        "        label_list.append(np.array(label.iloc[i+window_size]))\n",
        "    return np.array(feature_list), np.array(label_list)"
      ]
    },
    {
      "cell_type": "code",
      "execution_count": 87,
      "id": "a3c0b86f",
      "metadata": {
        "ExecuteTime": {
          "end_time": "2022-01-22T08:42:52.266749Z",
          "start_time": "2022-01-22T08:42:52.242349Z"
        },
        "id": "a3c0b86f"
      },
      "outputs": [],
      "source": [
        "window_size=20\n",
        "train_x = train_df[['Open', 'High', 'Low', 'Volume', 'Adj Close']]\n",
        "train_y = train_df['Close']\n",
        "train_x, train_y = make_dataset(train_x, train_y, window_size)\n",
        "\n",
        "test_x = test_df[['Open', 'High', 'Low', 'Volume', 'Adj Close']]\n",
        "test_y = test_df['Close']\n",
        "test_x, test_y = make_dataset(test_x, test_y, window_size)"
      ]
    },
    {
      "cell_type": "code",
      "source": [
        "train_x[0][9]"
      ],
      "metadata": {
        "colab": {
          "base_uri": "https://localhost:8080/"
        },
        "id": "oplb_vq1nG5z",
        "outputId": "fec1f751-18e0-4dbb-f4c8-826f3ed743a6"
      },
      "id": "oplb_vq1nG5z",
      "execution_count": 88,
      "outputs": [
        {
          "output_type": "execute_result",
          "data": {
            "text/plain": [
              "array([0.07170543, 0.07287763, 0.07719054, 0.24224876, 0.0753217 ])"
            ]
          },
          "metadata": {},
          "execution_count": 88
        }
      ]
    },
    {
      "cell_type": "code",
      "source": [
        "train_y[0]"
      ],
      "metadata": {
        "colab": {
          "base_uri": "https://localhost:8080/"
        },
        "id": "XTZubTQSnL-F",
        "outputId": "881ee304-edab-4a88-cd68-1936325fbcc4"
      },
      "id": "XTZubTQSnL-F",
      "execution_count": 89,
      "outputs": [
        {
          "output_type": "execute_result",
          "data": {
            "text/plain": [
              "0.0669824976970654"
            ]
          },
          "metadata": {},
          "execution_count": 89
        }
      ]
    },
    {
      "cell_type": "code",
      "source": [
        "train_df.loc[9,:]"
      ],
      "metadata": {
        "colab": {
          "base_uri": "https://localhost:8080/"
        },
        "id": "SQSCGRHlnUG0",
        "outputId": "e7151e9b-1fb1-4d2d-aa65-e50c6833f27b"
      },
      "id": "SQSCGRHlnUG0",
      "execution_count": 90,
      "outputs": [
        {
          "output_type": "execute_result",
          "data": {
            "text/plain": [
              "Date         2018-01-15 00:00:00\n",
              "Open                   0.0717054\n",
              "High                   0.0728776\n",
              "Low                    0.0771905\n",
              "Close                  0.0755363\n",
              "Adj Close              0.0753217\n",
              "Volume                  0.242249\n",
              "Name: 9, dtype: object"
            ]
          },
          "metadata": {},
          "execution_count": 90
        }
      ]
    },
    {
      "cell_type": "code",
      "execution_count": 91,
      "id": "cca617e9",
      "metadata": {
        "ExecuteTime": {
          "end_time": "2022-01-22T08:42:52.270123Z",
          "start_time": "2022-01-22T08:42:52.267543Z"
        },
        "colab": {
          "base_uri": "https://localhost:8080/"
        },
        "id": "cca617e9",
        "outputId": "db9af3b8-6759-4a84-d769-c840bbd3e2cf"
      },
      "outputs": [
        {
          "output_type": "stream",
          "name": "stdout",
          "text": [
            "(863, 20, 5) (863,)\n",
            "(97, 20, 5) (97,)\n"
          ]
        }
      ],
      "source": [
        "print(train_x.shape, train_y.shape)\n",
        "print(test_x.shape, test_y.shape)"
      ]
    },
    {
      "cell_type": "code",
      "execution_count": 92,
      "id": "7eb7baaf",
      "metadata": {
        "ExecuteTime": {
          "end_time": "2022-01-22T08:42:52.275136Z",
          "start_time": "2022-01-22T08:42:52.271165Z"
        },
        "colab": {
          "base_uri": "https://localhost:8080/"
        },
        "id": "7eb7baaf",
        "outputId": "94527061-5e4e-4c51-9883-29e691fbcfe7"
      },
      "outputs": [
        {
          "output_type": "execute_result",
          "data": {
            "text/plain": [
              "(array([0.06976744, 0.07223155, 0.0744089 , 0.25774607, 0.07729003]),\n",
              " 0.0669824976970654,\n",
              " Date         2018-01-16 00:00:00\n",
              " Open                   0.0755814\n",
              " High                   0.0696472\n",
              " Low                    0.0751043\n",
              " Close                  0.0696144\n",
              " Adj Close              0.0694167\n",
              " Volume                   0.21407\n",
              " Name: 10, dtype: object)"
            ]
          },
          "metadata": {},
          "execution_count": 92
        }
      ],
      "source": [
        "train_x[0][0], train_y[0], train_df.loc[10,:]"
      ]
    },
    {
      "cell_type": "code",
      "execution_count": 93,
      "id": "63bc4153",
      "metadata": {
        "ExecuteTime": {
          "end_time": "2022-01-22T08:42:52.284311Z",
          "start_time": "2022-01-22T08:42:52.276352Z"
        },
        "colab": {
          "base_uri": "https://localhost:8080/"
        },
        "id": "63bc4153",
        "outputId": "45f59d89-b7e9-4a06-db32-3ad5c806b102"
      },
      "outputs": [
        {
          "output_type": "execute_result",
          "data": {
            "text/plain": [
              "((690, 20, 5), (173, 20, 5))"
            ]
          },
          "metadata": {},
          "execution_count": 93
        }
      ],
      "source": [
        "from sklearn import model_selection\n",
        "x_train, x_valid, y_train, y_valid = model_selection.train_test_split(train_x, train_y, test_size=0.2)\n",
        "x_train.shape, x_valid.shape"
      ]
    },
    {
      "cell_type": "markdown",
      "id": "108b04ad",
      "metadata": {
        "id": "108b04ad"
      },
      "source": [
        "### Modeling"
      ]
    },
    {
      "cell_type": "code",
      "execution_count": 94,
      "id": "17e56198",
      "metadata": {
        "ExecuteTime": {
          "end_time": "2022-01-22T08:43:05.985183Z",
          "start_time": "2022-01-22T08:43:05.971195Z"
        },
        "id": "17e56198"
      },
      "outputs": [],
      "source": [
        "import keras\n",
        "from keras.models import Sequential\n",
        "from keras.layers import Dense\n",
        "from keras.callbacks import EarlyStopping, ModelCheckpoint\n",
        "from keras.layers import LSTM\n",
        "\n",
        "# model setting\n",
        "model = keras.models.Sequential()\n",
        "model.add(keras.layers.LSTM(16, \n",
        "               input_shape=(train_x.shape[1], train_x.shape[2]), \n",
        "               activation='relu', \n",
        "               return_sequences=False)\n",
        "          )\n",
        "\n",
        "model.add(keras.layers.Dense(1))\n",
        "model.compile(loss='mean_squared_error', optimizer='adam')\n",
        "\n",
        "# callback setting\n",
        "early_stop = EarlyStopping(monitor='val_loss', patience=5)\n",
        "model_path = 'model'\n",
        "filename = os.path.join(model_path, 'tmp_checkpoint.h5')\n",
        "checkpoint = ModelCheckpoint(filename, monitor='val_loss', verbose=1, save_best_only=True, mode='auto')\n"
      ]
    },
    {
      "cell_type": "code",
      "execution_count": 95,
      "id": "b2e94da8",
      "metadata": {
        "ExecuteTime": {
          "end_time": "2022-01-22T08:42:52.342018Z",
          "start_time": "2022-01-22T08:42:52.342012Z"
        },
        "colab": {
          "base_uri": "https://localhost:8080/"
        },
        "id": "b2e94da8",
        "outputId": "fad672f5-7975-470d-ebd4-38f1828888ee"
      },
      "outputs": [
        {
          "output_type": "stream",
          "name": "stdout",
          "text": [
            "Epoch 1/200\n",
            "41/44 [==========================>...] - ETA: 0s - loss: 0.0186\n",
            "Epoch 00001: val_loss improved from inf to 0.00213, saving model to model/tmp_checkpoint.h5\n",
            "44/44 [==============================] - 2s 17ms/step - loss: 0.0179 - val_loss: 0.0021\n",
            "Epoch 2/200\n",
            "39/44 [=========================>....] - ETA: 0s - loss: 0.0014\n",
            "Epoch 00002: val_loss improved from 0.00213 to 0.00081, saving model to model/tmp_checkpoint.h5\n",
            "44/44 [==============================] - 0s 10ms/step - loss: 0.0013 - val_loss: 8.1329e-04\n",
            "Epoch 3/200\n",
            "39/44 [=========================>....] - ETA: 0s - loss: 7.8621e-04\n",
            "Epoch 00003: val_loss improved from 0.00081 to 0.00056, saving model to model/tmp_checkpoint.h5\n",
            "44/44 [==============================] - 0s 10ms/step - loss: 7.7715e-04 - val_loss: 5.5791e-04\n",
            "Epoch 4/200\n",
            "38/44 [========================>.....] - ETA: 0s - loss: 6.5804e-04\n",
            "Epoch 00004: val_loss improved from 0.00056 to 0.00053, saving model to model/tmp_checkpoint.h5\n",
            "44/44 [==============================] - 0s 11ms/step - loss: 6.2487e-04 - val_loss: 5.3426e-04\n",
            "Epoch 5/200\n",
            "43/44 [============================>.] - ETA: 0s - loss: 5.6561e-04\n",
            "Epoch 00005: val_loss improved from 0.00053 to 0.00044, saving model to model/tmp_checkpoint.h5\n",
            "44/44 [==============================] - 0s 9ms/step - loss: 5.6596e-04 - val_loss: 4.3953e-04\n",
            "Epoch 6/200\n",
            "42/44 [===========================>..] - ETA: 0s - loss: 4.6080e-04\n",
            "Epoch 00006: val_loss improved from 0.00044 to 0.00037, saving model to model/tmp_checkpoint.h5\n",
            "44/44 [==============================] - 0s 10ms/step - loss: 4.5262e-04 - val_loss: 3.7240e-04\n",
            "Epoch 7/200\n",
            "39/44 [=========================>....] - ETA: 0s - loss: 4.3699e-04\n",
            "Epoch 00007: val_loss improved from 0.00037 to 0.00036, saving model to model/tmp_checkpoint.h5\n",
            "44/44 [==============================] - 0s 10ms/step - loss: 4.1803e-04 - val_loss: 3.6030e-04\n",
            "Epoch 8/200\n",
            "42/44 [===========================>..] - ETA: 0s - loss: 3.7192e-04\n",
            "Epoch 00008: val_loss improved from 0.00036 to 0.00031, saving model to model/tmp_checkpoint.h5\n",
            "44/44 [==============================] - 0s 9ms/step - loss: 3.7211e-04 - val_loss: 3.0726e-04\n",
            "Epoch 9/200\n",
            "40/44 [==========================>...] - ETA: 0s - loss: 4.2381e-04\n",
            "Epoch 00009: val_loss improved from 0.00031 to 0.00031, saving model to model/tmp_checkpoint.h5\n",
            "44/44 [==============================] - 0s 10ms/step - loss: 4.1113e-04 - val_loss: 3.0639e-04\n",
            "Epoch 10/200\n",
            "42/44 [===========================>..] - ETA: 0s - loss: 3.2037e-04\n",
            "Epoch 00010: val_loss did not improve from 0.00031\n",
            "44/44 [==============================] - 0s 9ms/step - loss: 3.1592e-04 - val_loss: 3.2227e-04\n",
            "Epoch 11/200\n",
            "44/44 [==============================] - ETA: 0s - loss: 3.2374e-04\n",
            "Epoch 00011: val_loss did not improve from 0.00031\n",
            "44/44 [==============================] - 0s 11ms/step - loss: 3.2374e-04 - val_loss: 4.3703e-04\n",
            "Epoch 12/200\n",
            "40/44 [==========================>...] - ETA: 0s - loss: 3.2109e-04\n",
            "Epoch 00012: val_loss improved from 0.00031 to 0.00026, saving model to model/tmp_checkpoint.h5\n",
            "44/44 [==============================] - 0s 10ms/step - loss: 3.1530e-04 - val_loss: 2.5621e-04\n",
            "Epoch 13/200\n",
            "41/44 [==========================>...] - ETA: 0s - loss: 2.8786e-04\n",
            "Epoch 00013: val_loss did not improve from 0.00026\n",
            "44/44 [==============================] - 0s 9ms/step - loss: 2.9659e-04 - val_loss: 2.6262e-04\n",
            "Epoch 14/200\n",
            "40/44 [==========================>...] - ETA: 0s - loss: 2.9958e-04\n",
            "Epoch 00014: val_loss improved from 0.00026 to 0.00024, saving model to model/tmp_checkpoint.h5\n",
            "44/44 [==============================] - 0s 10ms/step - loss: 2.8526e-04 - val_loss: 2.3894e-04\n",
            "Epoch 15/200\n",
            "40/44 [==========================>...] - ETA: 0s - loss: 3.0050e-04\n",
            "Epoch 00015: val_loss did not improve from 0.00024\n",
            "44/44 [==============================] - 0s 10ms/step - loss: 3.0889e-04 - val_loss: 3.9537e-04\n",
            "Epoch 16/200\n",
            "39/44 [=========================>....] - ETA: 0s - loss: 3.1795e-04\n",
            "Epoch 00016: val_loss did not improve from 0.00024\n",
            "44/44 [==============================] - 0s 10ms/step - loss: 2.9419e-04 - val_loss: 2.5014e-04\n",
            "Epoch 17/200\n",
            "42/44 [===========================>..] - ETA: 0s - loss: 2.9055e-04\n",
            "Epoch 00017: val_loss did not improve from 0.00024\n",
            "44/44 [==============================] - 0s 9ms/step - loss: 2.8617e-04 - val_loss: 2.7240e-04\n",
            "Epoch 18/200\n",
            "40/44 [==========================>...] - ETA: 0s - loss: 2.6127e-04\n",
            "Epoch 00018: val_loss did not improve from 0.00024\n",
            "44/44 [==============================] - 0s 10ms/step - loss: 2.6869e-04 - val_loss: 2.4045e-04\n",
            "Epoch 19/200\n",
            "42/44 [===========================>..] - ETA: 0s - loss: 2.6783e-04\n",
            "Epoch 00019: val_loss improved from 0.00024 to 0.00022, saving model to model/tmp_checkpoint.h5\n",
            "44/44 [==============================] - 0s 10ms/step - loss: 2.6313e-04 - val_loss: 2.2084e-04\n",
            "Epoch 20/200\n",
            "41/44 [==========================>...] - ETA: 0s - loss: 2.3190e-04\n",
            "Epoch 00020: val_loss did not improve from 0.00022\n",
            "44/44 [==============================] - 0s 9ms/step - loss: 2.4543e-04 - val_loss: 2.7177e-04\n",
            "Epoch 21/200\n",
            "40/44 [==========================>...] - ETA: 0s - loss: 2.2923e-04\n",
            "Epoch 00021: val_loss did not improve from 0.00022\n",
            "44/44 [==============================] - 0s 9ms/step - loss: 2.4847e-04 - val_loss: 2.6039e-04\n",
            "Epoch 22/200\n",
            "44/44 [==============================] - ETA: 0s - loss: 2.8066e-04\n",
            "Epoch 00022: val_loss improved from 0.00022 to 0.00021, saving model to model/tmp_checkpoint.h5\n",
            "44/44 [==============================] - 0s 10ms/step - loss: 2.8066e-04 - val_loss: 2.1387e-04\n",
            "Epoch 23/200\n",
            "39/44 [=========================>....] - ETA: 0s - loss: 2.2674e-04\n",
            "Epoch 00023: val_loss improved from 0.00021 to 0.00021, saving model to model/tmp_checkpoint.h5\n",
            "44/44 [==============================] - 0s 10ms/step - loss: 2.3125e-04 - val_loss: 2.0570e-04\n",
            "Epoch 24/200\n",
            "39/44 [=========================>....] - ETA: 0s - loss: 2.2602e-04\n",
            "Epoch 00024: val_loss did not improve from 0.00021\n",
            "44/44 [==============================] - 0s 10ms/step - loss: 2.4665e-04 - val_loss: 2.2858e-04\n",
            "Epoch 25/200\n",
            "42/44 [===========================>..] - ETA: 0s - loss: 2.6820e-04\n",
            "Epoch 00025: val_loss did not improve from 0.00021\n",
            "44/44 [==============================] - 0s 9ms/step - loss: 2.6832e-04 - val_loss: 2.0819e-04\n",
            "Epoch 26/200\n",
            "42/44 [===========================>..] - ETA: 0s - loss: 2.8386e-04\n",
            "Epoch 00026: val_loss improved from 0.00021 to 0.00021, saving model to model/tmp_checkpoint.h5\n",
            "44/44 [==============================] - 0s 10ms/step - loss: 3.0181e-04 - val_loss: 2.0555e-04\n",
            "Epoch 27/200\n",
            "41/44 [==========================>...] - ETA: 0s - loss: 2.6944e-04\n",
            "Epoch 00027: val_loss did not improve from 0.00021\n",
            "44/44 [==============================] - 0s 9ms/step - loss: 2.6649e-04 - val_loss: 2.9647e-04\n",
            "Epoch 28/200\n",
            "40/44 [==========================>...] - ETA: 0s - loss: 2.6645e-04\n",
            "Epoch 00028: val_loss improved from 0.00021 to 0.00019, saving model to model/tmp_checkpoint.h5\n",
            "44/44 [==============================] - 0s 10ms/step - loss: 2.5597e-04 - val_loss: 1.8933e-04\n",
            "Epoch 29/200\n",
            "42/44 [===========================>..] - ETA: 0s - loss: 2.2262e-04\n",
            "Epoch 00029: val_loss did not improve from 0.00019\n",
            "44/44 [==============================] - 0s 9ms/step - loss: 2.2243e-04 - val_loss: 2.1931e-04\n",
            "Epoch 30/200\n",
            "42/44 [===========================>..] - ETA: 0s - loss: 2.4255e-04\n",
            "Epoch 00030: val_loss did not improve from 0.00019\n",
            "44/44 [==============================] - 0s 9ms/step - loss: 2.3871e-04 - val_loss: 2.0746e-04\n",
            "Epoch 31/200\n",
            "41/44 [==========================>...] - ETA: 0s - loss: 2.0151e-04\n",
            "Epoch 00031: val_loss did not improve from 0.00019\n",
            "44/44 [==============================] - 0s 9ms/step - loss: 2.1447e-04 - val_loss: 2.0228e-04\n",
            "Epoch 32/200\n",
            "41/44 [==========================>...] - ETA: 0s - loss: 3.0926e-04\n",
            "Epoch 00032: val_loss improved from 0.00019 to 0.00018, saving model to model/tmp_checkpoint.h5\n",
            "44/44 [==============================] - 0s 9ms/step - loss: 3.0017e-04 - val_loss: 1.8004e-04\n",
            "Epoch 33/200\n",
            "44/44 [==============================] - ETA: 0s - loss: 2.2737e-04\n",
            "Epoch 00033: val_loss did not improve from 0.00018\n",
            "44/44 [==============================] - 0s 10ms/step - loss: 2.2737e-04 - val_loss: 3.6041e-04\n",
            "Epoch 34/200\n",
            "41/44 [==========================>...] - ETA: 0s - loss: 2.7839e-04\n",
            "Epoch 00034: val_loss did not improve from 0.00018\n",
            "44/44 [==============================] - 0s 9ms/step - loss: 2.7968e-04 - val_loss: 2.8363e-04\n",
            "Epoch 35/200\n",
            "40/44 [==========================>...] - ETA: 0s - loss: 2.3497e-04\n",
            "Epoch 00035: val_loss did not improve from 0.00018\n",
            "44/44 [==============================] - 0s 9ms/step - loss: 2.3529e-04 - val_loss: 1.9470e-04\n",
            "Epoch 36/200\n",
            "41/44 [==========================>...] - ETA: 0s - loss: 2.0164e-04\n",
            "Epoch 00036: val_loss improved from 0.00018 to 0.00018, saving model to model/tmp_checkpoint.h5\n",
            "44/44 [==============================] - 0s 10ms/step - loss: 1.9870e-04 - val_loss: 1.7535e-04\n",
            "Epoch 37/200\n",
            "41/44 [==========================>...] - ETA: 0s - loss: 2.1952e-04\n",
            "Epoch 00037: val_loss did not improve from 0.00018\n",
            "44/44 [==============================] - 0s 9ms/step - loss: 2.1609e-04 - val_loss: 1.7640e-04\n",
            "Epoch 38/200\n",
            "40/44 [==========================>...] - ETA: 0s - loss: 2.0166e-04\n",
            "Epoch 00038: val_loss did not improve from 0.00018\n",
            "44/44 [==============================] - 0s 10ms/step - loss: 2.0251e-04 - val_loss: 1.9766e-04\n",
            "Epoch 39/200\n",
            "41/44 [==========================>...] - ETA: 0s - loss: 1.8415e-04\n",
            "Epoch 00039: val_loss improved from 0.00018 to 0.00017, saving model to model/tmp_checkpoint.h5\n",
            "44/44 [==============================] - 0s 10ms/step - loss: 1.9294e-04 - val_loss: 1.7393e-04\n",
            "Epoch 40/200\n",
            "40/44 [==========================>...] - ETA: 0s - loss: 2.0625e-04\n",
            "Epoch 00040: val_loss did not improve from 0.00017\n",
            "44/44 [==============================] - 0s 9ms/step - loss: 2.2344e-04 - val_loss: 2.2617e-04\n",
            "Epoch 41/200\n",
            "42/44 [===========================>..] - ETA: 0s - loss: 1.9420e-04\n",
            "Epoch 00041: val_loss improved from 0.00017 to 0.00017, saving model to model/tmp_checkpoint.h5\n",
            "44/44 [==============================] - 0s 9ms/step - loss: 1.9454e-04 - val_loss: 1.6819e-04\n",
            "Epoch 42/200\n",
            "42/44 [===========================>..] - ETA: 0s - loss: 1.8411e-04\n",
            "Epoch 00042: val_loss did not improve from 0.00017\n",
            "44/44 [==============================] - 0s 10ms/step - loss: 1.8685e-04 - val_loss: 1.9667e-04\n",
            "Epoch 43/200\n",
            "41/44 [==========================>...] - ETA: 0s - loss: 2.3905e-04\n",
            "Epoch 00043: val_loss did not improve from 0.00017\n",
            "44/44 [==============================] - 0s 10ms/step - loss: 2.3458e-04 - val_loss: 2.2920e-04\n",
            "Epoch 44/200\n",
            "41/44 [==========================>...] - ETA: 0s - loss: 2.0915e-04\n",
            "Epoch 00044: val_loss did not improve from 0.00017\n",
            "44/44 [==============================] - 0s 10ms/step - loss: 2.2234e-04 - val_loss: 1.8530e-04\n",
            "Epoch 45/200\n",
            "39/44 [=========================>....] - ETA: 0s - loss: 1.8085e-04\n",
            "Epoch 00045: val_loss improved from 0.00017 to 0.00016, saving model to model/tmp_checkpoint.h5\n",
            "44/44 [==============================] - 0s 10ms/step - loss: 1.8627e-04 - val_loss: 1.5907e-04\n",
            "Epoch 46/200\n",
            "42/44 [===========================>..] - ETA: 0s - loss: 1.9257e-04\n",
            "Epoch 00046: val_loss did not improve from 0.00016\n",
            "44/44 [==============================] - 0s 9ms/step - loss: 1.8947e-04 - val_loss: 1.9206e-04\n",
            "Epoch 47/200\n",
            "39/44 [=========================>....] - ETA: 0s - loss: 1.8369e-04\n",
            "Epoch 00047: val_loss did not improve from 0.00016\n",
            "44/44 [==============================] - 0s 9ms/step - loss: 1.8760e-04 - val_loss: 2.0379e-04\n",
            "Epoch 48/200\n",
            "44/44 [==============================] - ETA: 0s - loss: 2.1564e-04\n",
            "Epoch 00048: val_loss did not improve from 0.00016\n",
            "44/44 [==============================] - 0s 10ms/step - loss: 2.1564e-04 - val_loss: 1.7609e-04\n",
            "Epoch 49/200\n",
            "41/44 [==========================>...] - ETA: 0s - loss: 2.2151e-04\n",
            "Epoch 00049: val_loss did not improve from 0.00016\n",
            "44/44 [==============================] - 0s 9ms/step - loss: 2.2870e-04 - val_loss: 2.4234e-04\n",
            "Epoch 50/200\n",
            "41/44 [==========================>...] - ETA: 0s - loss: 2.2591e-04\n",
            "Epoch 00050: val_loss did not improve from 0.00016\n",
            "44/44 [==============================] - 0s 9ms/step - loss: 2.2330e-04 - val_loss: 2.0775e-04\n"
          ]
        }
      ],
      "source": [
        "history = model.fit(x_train, y_train, \n",
        "                    epochs=200, \n",
        "                    batch_size=16,\n",
        "                    validation_data=(x_valid, y_valid), \n",
        "                    callbacks=[early_stop, checkpoint])"
      ]
    },
    {
      "cell_type": "code",
      "execution_count": 96,
      "id": "54317d74",
      "metadata": {
        "ExecuteTime": {
          "end_time": "2022-01-22T08:42:52.342468Z",
          "start_time": "2022-01-22T08:42:52.342463Z"
        },
        "colab": {
          "base_uri": "https://localhost:8080/"
        },
        "id": "54317d74",
        "outputId": "431c485b-b82d-4276-b628-532956a3ccd4"
      },
      "outputs": [
        {
          "output_type": "execute_result",
          "data": {
            "text/plain": [
              "(97, 1)"
            ]
          },
          "metadata": {},
          "execution_count": 96
        }
      ],
      "source": [
        "model.load_weights(filename)\n",
        "pred_y = model.predict(test_x)\n",
        "pred_y.shape"
      ]
    },
    {
      "cell_type": "code",
      "source": [
        "predicted = pd.concat([test_df.Date[window_size:].reset_index(), \n",
        "                       pd.DataFrame(test_y, columns=['y']), \n",
        "                       pd.DataFrame(pred_y, columns=['yhat'])], \n",
        "                      axis=1, ignore_index=True)\n",
        "\n",
        "predicted.columns = ['idx','ds','y','yhat']"
      ],
      "metadata": {
        "id": "WHrFIiaZEnaI"
      },
      "id": "WHrFIiaZEnaI",
      "execution_count": 97,
      "outputs": []
    },
    {
      "cell_type": "code",
      "execution_count": 98,
      "id": "b014e105",
      "metadata": {
        "ExecuteTime": {
          "end_time": "2022-01-22T08:26:40.945033Z",
          "start_time": "2022-01-22T08:26:40.937041Z"
        },
        "colab": {
          "base_uri": "https://localhost:8080/",
          "height": 351
        },
        "id": "b014e105",
        "outputId": "4b96da80-3785-42ef-e1d5-50ccf3a62e2f"
      },
      "outputs": [
        {
          "output_type": "display_data",
          "data": {
            "image/png": "[encoded data removed]",
            "text/plain": [
              "<Figure size 1080x360 with 1 Axes>"
            ]
          },
          "metadata": {
            "needs_background": "light"
          }
        }
      ],
      "source": [
        "plt.figure(figsize=[15,5])\n",
        "g1 = sns.lineplot(data = predicted, x='ds', y='y', color='blue')\n",
        "g1 = sns.lineplot(data = predicted, x='ds', y='yhat', color='red')\n",
        "g1.set_ylabel('Price (Won)')\n",
        "g1.set_xlabel('Date')\n",
        "g1.set_title('Stock Price of Kakao Corp')\n",
        "plt.tight_layout()\n",
        "plt.show()"
      ]
    },
    {
      "cell_type": "code",
      "execution_count": 99,
      "id": "2a434b51",
      "metadata": {
        "colab": {
          "base_uri": "https://localhost:8080/"
        },
        "id": "2a434b51",
        "outputId": "87f70d08-e8ec-47cd-b61b-62d73949db5b"
      },
      "outputs": [
        {
          "output_type": "stream",
          "name": "stdout",
          "text": [
            "mse : 0.0017266956192354803\n",
            "mae : 0.03010697503292957\n"
          ]
        }
      ],
      "source": [
        "from sklearn import metrics\n",
        "print('mse :', metrics.mean_squared_error(predicted.y, predicted.yhat))\n",
        "print('mae :', metrics.mean_absolute_error(predicted.y, predicted.yhat))"
      ]
    },
    {
      "cell_type": "code",
      "execution_count": 100,
      "id": "19d49dd1",
      "metadata": {
        "colab": {
          "base_uri": "https://localhost:8080/",
          "height": 81
        },
        "id": "19d49dd1",
        "outputId": "49f1194f-7c97-4f1e-8381-8bfd14c9fd98"
      },
      "outputs": [
        {
          "output_type": "execute_result",
          "data": {
            "text/html": [
              "\n",
              "  <div id=\"df-de5991bc-f43e-48d8-853d-fdc06b570cbb\">\n",
              "    <div class=\"colab-df-container\">\n",
              "      <div>\n",
              "<style scoped>\n",
              "    .dataframe tbody tr th:only-of-type {\n",
              "        vertical-align: middle;\n",
              "    }\n",
              "\n",
              "    .dataframe tbody tr th {\n",
              "        vertical-align: top;\n",
              "    }\n",
              "\n",
              "    .dataframe thead th {\n",
              "        text-align: right;\n",
              "    }\n",
              "</style>\n",
              "<table border=\"1\" class=\"dataframe\">\n",
              "  <thead>\n",
              "    <tr style=\"text-align: right;\">\n",
              "      <th></th>\n",
              "      <th>n</th>\n",
              "      <th>r</th>\n",
              "      <th>CI95%</th>\n",
              "      <th>p-val</th>\n",
              "      <th>BF10</th>\n",
              "      <th>power</th>\n",
              "    </tr>\n",
              "  </thead>\n",
              "  <tbody>\n",
              "    <tr>\n",
              "      <th>pearson</th>\n",
              "      <td>97</td>\n",
              "      <td>0.920805</td>\n",
              "      <td>[0.88, 0.95]</td>\n",
              "      <td>1.260529e-40</td>\n",
              "      <td>1.411e+37</td>\n",
              "      <td>1.0</td>\n",
              "    </tr>\n",
              "  </tbody>\n",
              "</table>\n",
              "</div>\n",
              "      <button class=\"colab-df-convert\" onclick=\"convertToInteractive('df-de5991bc-f43e-48d8-853d-fdc06b570cbb')\"\n",
              "              title=\"Convert this dataframe to an interactive table.\"\n",
              "              style=\"display:none;\">\n",
              "        \n",
              "  <svg xmlns=\"http://www.w3.org/2000/svg\" height=\"24px\"viewBox=\"0 0 24 24\"\n",
              "       width=\"24px\">\n",
              "    <path d=\"M0 0h24v24H0V0z\" fill=\"none\"/>\n",
              "    <path d=\"M18.56 5.44l.94 2.06.94-2.06 2.06-.94-2.06-.94-.94-2.06-.94 2.06-2.06.94zm-11 1L8.5 8.5l.94-2.06 2.06-.94-2.06-.94L8.5 2.5l-.94 2.06-2.06.94zm10 10l.94 2.06.94-2.06 2.06-.94-2.06-.94-.94-2.06-.94 2.06-2.06.94z\"/><path d=\"M17.41 7.96l-1.37-1.37c-.4-.4-.92-.59-1.43-.59-.52 0-1.04.2-1.43.59L10.3 9.45l-7.72 7.72c-.78.78-.78 2.05 0 2.83L4 21.41c.39.39.9.59 1.41.59.51 0 1.02-.2 1.41-.59l7.78-7.78 2.81-2.81c.8-.78.8-2.07 0-2.86zM5.41 20L4 18.59l7.72-7.72 1.47 1.35L5.41 20z\"/>\n",
              "  </svg>\n",
              "      </button>\n",
              "      \n",
              "  <style>\n",
              "    .colab-df-container {\n",
              "      display:flex;\n",
              "      flex-wrap:wrap;\n",
              "      gap: 12px;\n",
              "    }\n",
              "\n",
              "    .colab-df-convert {\n",
              "      background-color: #E8F0FE;\n",
              "      border: none;\n",
              "      border-radius: 50%;\n",
              "      cursor: pointer;\n",
              "      display: none;\n",
              "      fill: #1967D2;\n",
              "      height: 32px;\n",
              "      padding: 0 0 0 0;\n",
              "      width: 32px;\n",
              "    }\n",
              "\n",
              "    .colab-df-convert:hover {\n",
              "      background-color: #E2EBFA;\n",
              "      box-shadow: 0px 1px 2px rgba(60, 64, 67, 0.3), 0px 1px 3px 1px rgba(60, 64, 67, 0.15);\n",
              "      fill: #174EA6;\n",
              "    }\n",
              "\n",
              "    [theme=dark] .colab-df-convert {\n",
              "      background-color: #3B4455;\n",
              "      fill: #D2E3FC;\n",
              "    }\n",
              "\n",
              "    [theme=dark] .colab-df-convert:hover {\n",
              "      background-color: #434B5C;\n",
              "      box-shadow: 0px 1px 3px 1px rgba(0, 0, 0, 0.15);\n",
              "      filter: drop-shadow(0px 1px 2px rgba(0, 0, 0, 0.3));\n",
              "      fill: #FFFFFF;\n",
              "    }\n",
              "  </style>\n",
              "\n",
              "      <script>\n",
              "        const buttonEl =\n",
              "          document.querySelector('#df-de5991bc-f43e-48d8-853d-fdc06b570cbb button.colab-df-convert');\n",
              "        buttonEl.style.display =\n",
              "          google.colab.kernel.accessAllowed ? 'block' : 'none';\n",
              "\n",
              "        async function convertToInteractive(key) {\n",
              "          const element = document.querySelector('#df-de5991bc-f43e-48d8-853d-fdc06b570cbb');\n",
              "          const dataTable =\n",
              "            await google.colab.kernel.invokeFunction('convertToInteractive',\n",
              "                                                     [key], {});\n",
              "          if (!dataTable) return;\n",
              "\n",
              "          const docLinkHtml = 'Like what you see? Visit the ' +\n",
              "            '<a target=\"_blank\" href=https://colab.research.google.com/notebooks/data_table.ipynb>data table notebook</a>'\n",
              "            + ' to learn more about interactive tables.';\n",
              "          element.innerHTML = '';\n",
              "          dataTable['output_type'] = 'display_data';\n",
              "          await google.colab.output.renderOutput(dataTable, element);\n",
              "          const docLink = document.createElement('div');\n",
              "          docLink.innerHTML = docLinkHtml;\n",
              "          element.appendChild(docLink);\n",
              "        }\n",
              "      </script>\n",
              "    </div>\n",
              "  </div>\n",
              "  "
            ],
            "text/plain": [
              "          n         r         CI95%         p-val       BF10  power\n",
              "pearson  97  0.920805  [0.88, 0.95]  1.260529e-40  1.411e+37    1.0"
            ]
          },
          "metadata": {},
          "execution_count": 100
        }
      ],
      "source": [
        "import pingouin as pg\n",
        "pg.corr(predicted.y, predicted.yhat,\n",
        "        alternative=\"two-sided\",\n",
        "        method=\"pearson\") # pearson, spearman, kendall, bicor, percbend, shepherd, skipped"
      ]
    },
    {
      "cell_type": "code",
      "execution_count": 101,
      "id": "12a357af",
      "metadata": {
        "colab": {
          "base_uri": "https://localhost:8080/",
          "height": 369
        },
        "id": "12a357af",
        "outputId": "6d01dca4-81a2-4bb6-e9db-f8f56e0c36d7"
      },
      "outputs": [
        {
          "output_type": "display_data",
          "data": {
            "image/png": "[encoded data removed]",
            "text/plain": [
              "<Figure size 432x360 with 1 Axes>"
            ]
          },
          "metadata": {
            "needs_background": "light"
          }
        }
      ],
      "source": [
        "g = sns.lmplot(x=\"y\", y=\"yhat\", data=predicted, height=5, aspect=1.2);\n",
        "g.set_axis_labels(\"Actual Price\", \"Predicted Price\")\n",
        "plt.tight_layout()\n",
        "plt.show()"
      ]
    },
    {
      "cell_type": "code",
      "source": [
        "plt.figure(figsize=[15,5])\n",
        "g1 = sns.lineplot(data = train_df, x='Date', y='Close', color='blue')\n",
        "g1 = sns.lineplot(data = test_df, x='Date', y='Close', color='red')\n",
        "g1 = sns.lineplot(data = predicted, x='ds', y='yhat', color='green')\n",
        "g1.set_ylabel('Price (Won)')\n",
        "g1.set_xlabel('Date')\n",
        "g1.set_title('Stock Price of Kakao Corp')\n",
        "plt.tight_layout()\n",
        "plt.show()"
      ],
      "metadata": {
        "colab": {
          "base_uri": "https://localhost:8080/",
          "height": 351
        },
        "id": "HaHoUYPvGqhM",
        "outputId": "560fbb22-a731-4ceb-cb92-9bd6bb24c484"
      },
      "id": "HaHoUYPvGqhM",
      "execution_count": 102,
      "outputs": [
        {
          "output_type": "display_data",
          "data": {
            "image/png": "[encoded data removed]",
            "text/plain": [
              "<Figure size 1080x360 with 1 Axes>"
            ]
          },
          "metadata": {
            "needs_background": "light"
          }
        }
      ]
    }
  ],
  "metadata": {
    "hide_input": false,
    "kernelspec": {
      "display_name": "Python 3 (ipykernel)",
      "language": "python",
      "name": "python3"
    },
    "language_info": {
      "codemirror_mode": {
        "name": "ipython",
        "version": 3
      },
      "file_extension": ".py",
      "mimetype": "text/x-python",
      "name": "python",
      "nbconvert_exporter": "python",
      "pygments_lexer": "ipython3",
      "version": "3.8.12"
    },
    "toc": {
      "base_numbering": 1,
      "nav_menu": {},
      "number_sections": true,
      "sideBar": true,
      "skip_h1_title": false,
      "title_cell": "Table of Contents",
      "title_sidebar": "Contents",
      "toc_cell": false,
      "toc_position": {
        "height": "calc(100% - 180px)",
        "left": "10px",
        "top": "150px",
        "width": "288px"
      },
      "toc_section_display": true,
      "toc_window_display": true
    },
    "varInspector": {
      "cols": {
        "lenName": 16,
        "lenType": 16,
        "lenVar": 40
      },
      "kernels_config": {
        "python": {
          "delete_cmd_postfix": "",
          "delete_cmd_prefix": "del ",
          "library": "var_list.py",
          "varRefreshCmd": "print(var_dic_list())"
        },
        "r": {
          "delete_cmd_postfix": ") ",
          "delete_cmd_prefix": "rm(",
          "library": "var_list.r",
          "varRefreshCmd": "cat(var_dic_list()) "
        }
      },
      "types_to_exclude": [
        "module",
        "function",
        "builtin_function_or_method",
        "instance",
        "_Feature"
      ],
      "window_display": false
    },
    "colab": {
      "name": "Predicting_StockPrice_Kakao.ipynb",
      "provenance": [],
      "collapsed_sections": [],
      "toc_visible": true
    }
  },
  "nbformat": 4,
  "nbformat_minor": 5
}