{
 "cells": [
  {
   "cell_type": "markdown",
   "id": "a1763f09",
   "metadata": {},
   "source": [
    "# LSTM을 활용하여 카카오 주가 예측하기"
   ]
  },
  {
   "cell_type": "markdown",
   "id": "906d8844",
   "metadata": {},
   "source": [
    "* 필요한 Library\n",
    "    * yfinance :\n",
    "        * yahoo finance [[ref]](https://github.com/ranaroussi/yfinance)\n",
    "        * conda install yfinance\n",
    "    * fbprophet : \n",
    "        * 시계열 데이터로 예측을 하기 위한 모듈 [[ref]](https://facebook.github.io/prophet/)\n",
    "        * pip3 install fbprophet\n",
    "    * pandas_datareader \n",
    "        * 웹 상의 데이터를 DataFrame 객체로 만드는 함수를 포함하는 모듈 [[ref]](https://pandas-datareader.readthedocs.io/en/latest/)\n",
    "        * pip3 install pandas_datareader\n",
    "    * pandas, numpy, seaborn, sklearn, tensorflow"
   ]
  },
  {
   "cell_type": "markdown",
   "id": "b44cf808",
   "metadata": {},
   "source": [
    "* Reference\n",
    "    * https://dschloe.github.io/python/python_edu/07_deeplearning/deep_learning_lstm/"
   ]
  },
  {
   "cell_type": "markdown",
   "id": "b25af73d",
   "metadata": {},
   "source": [
    "## Preparation"
   ]
  },
  {
   "cell_type": "code",
   "execution_count": null,
   "id": "b4eb9f5d",
   "metadata": {},
   "outputs": [],
   "source": []
  },
  {
   "cell_type": "code",
   "execution_count": 1,
   "id": "2542d08d",
   "metadata": {
    "ExecuteTime": {
     "end_time": "2022-01-22T08:37:04.780624Z",
     "start_time": "2022-01-22T08:37:02.439904Z"
    }
   },
   "outputs": [],
   "source": [
    "# unitility\n",
    "import os, warnings\n",
    "from copy import deepcopy\n",
    "from datetime import datetime\n",
    "\n",
    "# stock price data load\n",
    "import yfinance as yf\n",
    "\n",
    "# data handling\n",
    "import pandas as pd\n",
    "from pandas_datareader import data as dfr\n",
    "import numpy as np\n",
    "\n",
    "# modeling\n",
    "import sklearn  # from sklearn import preprocessing, feature_selection, linear_model, svm, metrics, model_selection\n",
    "import tensorflow as tf\n",
    "from fbprophet import Prophet\n",
    "\n",
    "# visualization\n",
    "import matplotlib as mpl\n",
    "import matplotlib.pyplot as plt\n",
    "import pylab as pl\n",
    "import seaborn as sns\n",
    "from IPython.core.display import display, HTML\n",
    "from IPython.display import Image"
   ]
  },
  {
   "cell_type": "code",
   "execution_count": 2,
   "id": "1c636502",
   "metadata": {
    "ExecuteTime": {
     "end_time": "2022-01-22T08:37:04.784538Z",
     "start_time": "2022-01-22T08:37:04.781363Z"
    }
   },
   "outputs": [],
   "source": [
    "#plot setting\n",
    "plt.style.use('seaborn')  # plt.style.use('ggplot')\n",
    "sns.set(font_scale=1.5)\n",
    "\n",
    "plt.rc('font', family='AppleGothic') \n",
    "plt.rcParams['figure.figsize'] = [10, 5]\n",
    "mpl.rcParams['axes.unicode_minus'] = False\n",
    "\n",
    "%matplotlib inline\n",
    "\n",
    "#ignore warnings\n",
    "warnings.filterwarnings('ignore') # 워닝 메세지를 생략해 줍니다. 차후 버전관리를 위해 필요한 정보라고 생각하시면 주석처리 하시면 됩니다."
   ]
  },
  {
   "cell_type": "code",
   "execution_count": 3,
   "id": "67e5556e",
   "metadata": {
    "ExecuteTime": {
     "end_time": "2022-01-22T08:37:04.786971Z",
     "start_time": "2022-01-22T08:37:04.785664Z"
    }
   },
   "outputs": [],
   "source": [
    "# path setting\n",
    "proj_dir = os.getcwd()\n",
    "# data_dir = (os.getcwd() +  '/titanic')\n",
    "os.chdir(proj_dir)"
   ]
  },
  {
   "cell_type": "markdown",
   "id": "0f7c0873",
   "metadata": {},
   "source": [
    "## Load Data"
   ]
  },
  {
   "cell_type": "code",
   "execution_count": 4,
   "id": "3ce5dda2",
   "metadata": {
    "ExecuteTime": {
     "end_time": "2022-01-22T08:37:04.788810Z",
     "start_time": "2022-01-22T08:37:04.787564Z"
    }
   },
   "outputs": [],
   "source": [
    "yf.pdr_override()"
   ]
  },
  {
   "cell_type": "code",
   "execution_count": 5,
   "id": "bda26ca6",
   "metadata": {
    "ExecuteTime": {
     "end_time": "2022-01-22T08:37:04.790493Z",
     "start_time": "2022-01-22T08:37:04.789390Z"
    }
   },
   "outputs": [],
   "source": [
    "start_date= \"2020-01-01\"\n",
    "end_date=\"2022-01-22\""
   ]
  },
  {
   "cell_type": "code",
   "execution_count": 6,
   "id": "a78c8476",
   "metadata": {
    "ExecuteTime": {
     "end_time": "2022-01-22T08:37:05.097417Z",
     "start_time": "2022-01-22T08:37:04.791254Z"
    }
   },
   "outputs": [
    {
     "name": "stdout",
     "output_type": "stream",
     "text": [
      "[*********************100%***********************]  1 of 1 completed\n"
     ]
    }
   ],
   "source": [
    "kko = dfr.get_data_yahoo(tickers = '035720.KS', start = start_date, end = end_date)"
   ]
  },
  {
   "cell_type": "markdown",
   "id": "111bf24b",
   "metadata": {},
   "source": [
    "## Glimpse"
   ]
  },
  {
   "cell_type": "code",
   "execution_count": 7,
   "id": "e8a8d8d0",
   "metadata": {
    "ExecuteTime": {
     "end_time": "2022-01-22T08:37:05.105775Z",
     "start_time": "2022-01-22T08:37:05.098279Z"
    }
   },
   "outputs": [
    {
     "data": {
      "text/html": [
       "<div>\n",
       "<style scoped>\n",
       "    .dataframe tbody tr th:only-of-type {\n",
       "        vertical-align: middle;\n",
       "    }\n",
       "\n",
       "    .dataframe tbody tr th {\n",
       "        vertical-align: top;\n",
       "    }\n",
       "\n",
       "    .dataframe thead th {\n",
       "        text-align: right;\n",
       "    }\n",
       "</style>\n",
       "<table border=\"1\" class=\"dataframe\">\n",
       "  <thead>\n",
       "    <tr style=\"text-align: right;\">\n",
       "      <th></th>\n",
       "      <th>Open</th>\n",
       "      <th>High</th>\n",
       "      <th>Low</th>\n",
       "      <th>Close</th>\n",
       "      <th>Adj Close</th>\n",
       "      <th>Volume</th>\n",
       "    </tr>\n",
       "    <tr>\n",
       "      <th>Date</th>\n",
       "      <th></th>\n",
       "      <th></th>\n",
       "      <th></th>\n",
       "      <th></th>\n",
       "      <th></th>\n",
       "      <th></th>\n",
       "    </tr>\n",
       "  </thead>\n",
       "  <tbody>\n",
       "    <tr>\n",
       "      <th>2020-01-02</th>\n",
       "      <td>30800.0</td>\n",
       "      <td>30900.0</td>\n",
       "      <td>30400.0</td>\n",
       "      <td>30500.0</td>\n",
       "      <td>30487.734375</td>\n",
       "      <td>1205235</td>\n",
       "    </tr>\n",
       "    <tr>\n",
       "      <th>2020-01-03</th>\n",
       "      <td>30700.0</td>\n",
       "      <td>31000.0</td>\n",
       "      <td>30200.0</td>\n",
       "      <td>30500.0</td>\n",
       "      <td>30487.734375</td>\n",
       "      <td>1574240</td>\n",
       "    </tr>\n",
       "    <tr>\n",
       "      <th>2020-01-06</th>\n",
       "      <td>30100.0</td>\n",
       "      <td>31000.0</td>\n",
       "      <td>30000.0</td>\n",
       "      <td>30900.0</td>\n",
       "      <td>30887.574219</td>\n",
       "      <td>1968575</td>\n",
       "    </tr>\n",
       "  </tbody>\n",
       "</table>\n",
       "</div>"
      ],
      "text/plain": [
       "               Open     High      Low    Close     Adj Close   Volume\n",
       "Date                                                                 \n",
       "2020-01-02  30800.0  30900.0  30400.0  30500.0  30487.734375  1205235\n",
       "2020-01-03  30700.0  31000.0  30200.0  30500.0  30487.734375  1574240\n",
       "2020-01-06  30100.0  31000.0  30000.0  30900.0  30887.574219  1968575"
      ]
     },
     "execution_count": 7,
     "metadata": {},
     "output_type": "execute_result"
    }
   ],
   "source": [
    "kko.head(3)"
   ]
  },
  {
   "cell_type": "code",
   "execution_count": 8,
   "id": "7851406b",
   "metadata": {
    "ExecuteTime": {
     "end_time": "2022-01-22T08:37:05.117508Z",
     "start_time": "2022-01-22T08:37:05.106627Z"
    }
   },
   "outputs": [
    {
     "data": {
      "text/html": [
       "<div>\n",
       "<style scoped>\n",
       "    .dataframe tbody tr th:only-of-type {\n",
       "        vertical-align: middle;\n",
       "    }\n",
       "\n",
       "    .dataframe tbody tr th {\n",
       "        vertical-align: top;\n",
       "    }\n",
       "\n",
       "    .dataframe thead th {\n",
       "        text-align: right;\n",
       "    }\n",
       "</style>\n",
       "<table border=\"1\" class=\"dataframe\">\n",
       "  <thead>\n",
       "    <tr style=\"text-align: right;\">\n",
       "      <th></th>\n",
       "      <th>Open</th>\n",
       "      <th>High</th>\n",
       "      <th>Low</th>\n",
       "      <th>Close</th>\n",
       "      <th>Adj Close</th>\n",
       "      <th>Volume</th>\n",
       "    </tr>\n",
       "  </thead>\n",
       "  <tbody>\n",
       "    <tr>\n",
       "      <th>count</th>\n",
       "      <td>510.000000</td>\n",
       "      <td>510.000000</td>\n",
       "      <td>510.000000</td>\n",
       "      <td>510.000000</td>\n",
       "      <td>510.000000</td>\n",
       "      <td>5.100000e+02</td>\n",
       "    </tr>\n",
       "    <tr>\n",
       "      <th>mean</th>\n",
       "      <td>88797.843137</td>\n",
       "      <td>90259.019608</td>\n",
       "      <td>87427.647059</td>\n",
       "      <td>88813.529412</td>\n",
       "      <td>88802.771415</td>\n",
       "      <td>4.211166e+06</td>\n",
       "    </tr>\n",
       "    <tr>\n",
       "      <th>std</th>\n",
       "      <td>38159.554588</td>\n",
       "      <td>38660.398239</td>\n",
       "      <td>37581.765219</td>\n",
       "      <td>38038.688212</td>\n",
       "      <td>38046.470298</td>\n",
       "      <td>2.887414e+06</td>\n",
       "    </tr>\n",
       "    <tr>\n",
       "      <th>min</th>\n",
       "      <td>27600.000000</td>\n",
       "      <td>29400.000000</td>\n",
       "      <td>25500.000000</td>\n",
       "      <td>26800.000000</td>\n",
       "      <td>26789.222656</td>\n",
       "      <td>0.000000e+00</td>\n",
       "    </tr>\n",
       "    <tr>\n",
       "      <th>25%</th>\n",
       "      <td>61500.000000</td>\n",
       "      <td>63775.000000</td>\n",
       "      <td>60850.000000</td>\n",
       "      <td>62025.000000</td>\n",
       "      <td>62000.056641</td>\n",
       "      <td>2.255909e+06</td>\n",
       "    </tr>\n",
       "    <tr>\n",
       "      <th>50%</th>\n",
       "      <td>86950.000000</td>\n",
       "      <td>88750.000000</td>\n",
       "      <td>85500.000000</td>\n",
       "      <td>87750.000000</td>\n",
       "      <td>87750.000000</td>\n",
       "      <td>3.475121e+06</td>\n",
       "    </tr>\n",
       "    <tr>\n",
       "      <th>75%</th>\n",
       "      <td>120000.000000</td>\n",
       "      <td>121875.000000</td>\n",
       "      <td>118000.000000</td>\n",
       "      <td>119500.000000</td>\n",
       "      <td>119500.000000</td>\n",
       "      <td>5.113046e+06</td>\n",
       "    </tr>\n",
       "    <tr>\n",
       "      <th>max</th>\n",
       "      <td>172000.000000</td>\n",
       "      <td>173000.000000</td>\n",
       "      <td>161000.000000</td>\n",
       "      <td>169500.000000</td>\n",
       "      <td>169500.000000</td>\n",
       "      <td>1.889515e+07</td>\n",
       "    </tr>\n",
       "  </tbody>\n",
       "</table>\n",
       "</div>"
      ],
      "text/plain": [
       "                Open           High            Low          Close  \\\n",
       "count     510.000000     510.000000     510.000000     510.000000   \n",
       "mean    88797.843137   90259.019608   87427.647059   88813.529412   \n",
       "std     38159.554588   38660.398239   37581.765219   38038.688212   \n",
       "min     27600.000000   29400.000000   25500.000000   26800.000000   \n",
       "25%     61500.000000   63775.000000   60850.000000   62025.000000   \n",
       "50%     86950.000000   88750.000000   85500.000000   87750.000000   \n",
       "75%    120000.000000  121875.000000  118000.000000  119500.000000   \n",
       "max    172000.000000  173000.000000  161000.000000  169500.000000   \n",
       "\n",
       "           Adj Close        Volume  \n",
       "count     510.000000  5.100000e+02  \n",
       "mean    88802.771415  4.211166e+06  \n",
       "std     38046.470298  2.887414e+06  \n",
       "min     26789.222656  0.000000e+00  \n",
       "25%     62000.056641  2.255909e+06  \n",
       "50%     87750.000000  3.475121e+06  \n",
       "75%    119500.000000  5.113046e+06  \n",
       "max    169500.000000  1.889515e+07  "
      ]
     },
     "execution_count": 8,
     "metadata": {},
     "output_type": "execute_result"
    }
   ],
   "source": [
    "kko.describe()"
   ]
  },
  {
   "cell_type": "code",
   "execution_count": 9,
   "id": "383f2555",
   "metadata": {
    "ExecuteTime": {
     "end_time": "2022-01-22T08:37:05.297243Z",
     "start_time": "2022-01-22T08:37:05.119995Z"
    }
   },
   "outputs": [
    {
     "data": {
      "image/png": "[encoded data removed]",
      "text/plain": [
       "<Figure size 1080x360 with 1 Axes>"
      ]
     },
     "metadata": {
      "needs_background": "light"
     },
     "output_type": "display_data"
    }
   ],
   "source": [
    "plt.figure(figsize=[15,5])\n",
    "g1 = sns.lineplot(data = kko, x='Date', y='Close')\n",
    "g1.set_ylabel('Price (Won)')\n",
    "g1.set_xlabel('Date')\n",
    "g1.set_title('Stock Price of Kakao Corp')\n",
    "plt.tight_layout()\n",
    "plt.show()"
   ]
  },
  {
   "cell_type": "markdown",
   "id": "50f2a601",
   "metadata": {},
   "source": [
    "## \"fbprophet\" library로 Forecasting 하기"
   ]
  },
  {
   "cell_type": "markdown",
   "id": "cb4bf07e",
   "metadata": {},
   "source": [
    "### Data Split"
   ]
  },
  {
   "cell_type": "code",
   "execution_count": 10,
   "id": "3144dcb5",
   "metadata": {
    "ExecuteTime": {
     "end_time": "2022-01-22T08:37:05.304008Z",
     "start_time": "2022-01-22T08:37:05.298018Z"
    }
   },
   "outputs": [],
   "source": [
    "df = deepcopy(kko)\n",
    "train_df = df[:'2021-10-01'].filter(['Close']).reset_index()\n",
    "test_df = df['2021-10-01':].filter(['Close']).reset_index()"
   ]
  },
  {
   "cell_type": "code",
   "execution_count": 11,
   "id": "2c8af135",
   "metadata": {
    "ExecuteTime": {
     "end_time": "2022-01-22T08:37:05.306723Z",
     "start_time": "2022-01-22T08:37:05.304737Z"
    }
   },
   "outputs": [
    {
     "name": "stdout",
     "output_type": "stream",
     "text": [
      "(434, 2) (77, 2)\n"
     ]
    }
   ],
   "source": [
    "print(train_df.shape, test_df.shape)"
   ]
  },
  {
   "cell_type": "markdown",
   "id": "214346e4",
   "metadata": {},
   "source": [
    "* Prophet에 사용하기 위해 날짜를 ds, 종가를 y로 바꾸어준다."
   ]
  },
  {
   "cell_type": "code",
   "execution_count": 12,
   "id": "4a0c1e2a",
   "metadata": {
    "ExecuteTime": {
     "end_time": "2022-01-22T08:37:05.309253Z",
     "start_time": "2022-01-22T08:37:05.307406Z"
    }
   },
   "outputs": [],
   "source": [
    "train_df.columns = ['ds', 'y']\n",
    "test_df.columns = ['ds', 'y']"
   ]
  },
  {
   "cell_type": "markdown",
   "id": "af136f73",
   "metadata": {},
   "source": [
    "### Modeling"
   ]
  },
  {
   "cell_type": "markdown",
   "id": "7c8dbe02",
   "metadata": {},
   "source": [
    "* fbprophet 라이브러리의 Prophet API 사용 [[ref]](https://hyperconnect.github.io/2020/03/09/prophet-package.html)\n",
    "* help(Prophet)"
   ]
  },
  {
   "cell_type": "code",
   "execution_count": 13,
   "id": "747132d4",
   "metadata": {
    "ExecuteTime": {
     "end_time": "2022-01-22T08:37:06.318017Z",
     "start_time": "2022-01-22T08:37:05.310162Z"
    }
   },
   "outputs": [],
   "source": [
    "model = Prophet(yearly_seasonality=True, daily_seasonality=True, weekly_seasonality=True)"
   ]
  },
  {
   "cell_type": "code",
   "execution_count": 14,
   "id": "74cb6325",
   "metadata": {
    "ExecuteTime": {
     "end_time": "2022-01-22T08:37:06.572325Z",
     "start_time": "2022-01-22T08:37:06.320805Z"
    }
   },
   "outputs": [
    {
     "name": "stdout",
     "output_type": "stream",
     "text": [
      "Initial log joint probability = -4.93983\n",
      "    Iter      log prob        ||dx||      ||grad||       alpha      alpha0  # evals  Notes \n",
      "      99       1263.81    0.00410601       486.901      0.3954      0.3954      121   \n",
      "    Iter      log prob        ||dx||      ||grad||       alpha      alpha0  # evals  Notes \n",
      "     199        1280.1     0.0177895       238.329           1           1      239   \n",
      "    Iter      log prob        ||dx||      ||grad||       alpha      alpha0  # evals  Notes \n",
      "     299       1285.38    0.00233593       192.059           1           1      367   \n",
      "    Iter      log prob        ||dx||      ||grad||       alpha      alpha0  # evals  Notes \n",
      "     336       1288.43   0.000254217       350.972   1.422e-06       0.001      463  LS failed, Hessian reset \n",
      "     380       1290.71   0.000116201       252.295   4.954e-07       0.001      556  LS failed, Hessian reset \n",
      "     399       1291.22    0.00322241        131.27           1           1      581   \n",
      "    Iter      log prob        ||dx||      ||grad||       alpha"
     ]
    },
    {
     "data": {
      "text/plain": [
       "<fbprophet.forecaster.Prophet at 0x15896d6d0>"
      ]
     },
     "execution_count": 14,
     "metadata": {},
     "output_type": "execute_result"
    },
    {
     "name": "stdout",
     "output_type": "stream",
     "text": [
      "      alpha0  # evals  Notes \n",
      "     499       1294.97   0.000356421       82.2727      0.9094      0.9094      713   \n",
      "    Iter      log prob        ||dx||      ||grad||       alpha      alpha0  # evals  Notes \n",
      "     599       1297.38     0.0214178       303.396           1           1      840   \n",
      "    Iter      log prob        ||dx||      ||grad||       alpha      alpha0  # evals  Notes \n",
      "     613       1298.07   0.000143205       220.717   2.561e-07       0.001      900  LS failed, Hessian reset \n",
      "     699       1299.41   0.000237692       81.7178           1           1     1013   \n",
      "    Iter      log prob        ||dx||      ||grad||       alpha      alpha0  # evals  Notes \n",
      "     799       1303.85    0.00181836       236.617           1           1     1131   \n",
      "    Iter      log prob        ||dx||      ||grad||       alpha      alpha0  # evals  Notes \n",
      "     836       1304.27   4.74199e-05       87.8628   2.372e-07       0.001     1220  LS failed, Hessian reset \n",
      "     899       1304.47   3.67309e-05       69.9529       2.121      0.5365     1304   \n",
      "    Iter      log prob        ||dx||      ||grad||       alpha      alpha0  # evals  Notes \n",
      "     918       1304.64   5.00408e-05       114.704   2.775e-07       0.001     1364  LS failed, Hessian reset \n",
      "     999       1304.94   3.16618e-05       66.0422           1           1     1465   \n",
      "    Iter      log prob        ||dx||      ||grad||       alpha      alpha0  # evals  Notes \n",
      "    1090       1305.99   0.000487316       162.661   3.522e-06       0.001     1615  LS failed, Hessian reset \n",
      "    1099       1306.04   1.26648e-05       63.2736      0.2117      0.2117     1627   \n",
      "    Iter      log prob        ||dx||      ||grad||       alpha      alpha0  # evals  Notes \n",
      "    1191       1306.16   5.60505e-06       59.6811   9.018e-08       0.001     1792  LS failed, Hessian reset \n",
      "    1199       1306.16   7.91001e-07       58.2447           1           1     1802   \n",
      "    Iter      log prob        ||dx||      ||grad||       alpha      alpha0  # evals  Notes \n",
      "    1213       1306.16   1.14521e-07       70.4184     0.05185           1     1823   \n",
      "Optimization terminated normally: \n",
      "  Convergence detected: relative gradient magnitude is below tolerance\n"
     ]
    }
   ],
   "source": [
    "model.fit(train_df)"
   ]
  },
  {
   "cell_type": "markdown",
   "id": "0ecfa088",
   "metadata": {},
   "source": [
    "### Prediction"
   ]
  },
  {
   "cell_type": "code",
   "execution_count": 15,
   "id": "0dfc33d7",
   "metadata": {
    "ExecuteTime": {
     "end_time": "2022-01-22T08:37:06.585369Z",
     "start_time": "2022-01-22T08:37:06.573076Z"
    }
   },
   "outputs": [
    {
     "ename": "NameError",
     "evalue": "name 'end_data' is not defined",
     "output_type": "error",
     "traceback": [
      "\u001b[0;31m---------------------------------------------------------------------------\u001b[0m",
      "\u001b[0;31mNameError\u001b[0m                                 Traceback (most recent call last)",
      "\u001b[0;32m/var/folders/1b/d5_2qxfn613b5c6jgpgy86000000gp/T/ipykernel_11046/79035340.py\u001b[0m in \u001b[0;36m<module>\u001b[0;34m\u001b[0m\n\u001b[1;32m      1\u001b[0m \u001b[0mmid\u001b[0m \u001b[0;34m=\u001b[0m \u001b[0mdatetime\u001b[0m\u001b[0;34m.\u001b[0m\u001b[0mstrptime\u001b[0m\u001b[0;34m(\u001b[0m\u001b[0;34m'2021-10-01'\u001b[0m\u001b[0;34m,\u001b[0m \u001b[0;34m\"%Y-%m-%d\"\u001b[0m\u001b[0;34m)\u001b[0m\u001b[0;34m\u001b[0m\u001b[0;34m\u001b[0m\u001b[0m\n\u001b[0;32m----> 2\u001b[0;31m \u001b[0mend\u001b[0m \u001b[0;34m=\u001b[0m \u001b[0mdatetime\u001b[0m\u001b[0;34m.\u001b[0m\u001b[0mstrptime\u001b[0m\u001b[0;34m(\u001b[0m\u001b[0mend_data\u001b[0m\u001b[0;34m,\u001b[0m \u001b[0;34m\"%Y-%m-%d\"\u001b[0m\u001b[0;34m)\u001b[0m\u001b[0;34m\u001b[0m\u001b[0;34m\u001b[0m\u001b[0m\n\u001b[0m\u001b[1;32m      3\u001b[0m \u001b[0mdate_diff\u001b[0m \u001b[0;34m=\u001b[0m \u001b[0mend\u001b[0m \u001b[0;34m-\u001b[0m \u001b[0mmid\u001b[0m\u001b[0;34m\u001b[0m\u001b[0;34m\u001b[0m\u001b[0m\n\u001b[1;32m      4\u001b[0m \u001b[0mdate_diff\u001b[0m\u001b[0;34m.\u001b[0m\u001b[0mdays\u001b[0m\u001b[0;34m\u001b[0m\u001b[0;34m\u001b[0m\u001b[0m\n",
      "\u001b[0;31mNameError\u001b[0m: name 'end_data' is not defined"
     ]
    }
   ],
   "source": [
    "mid = datetime.strptime('2021-10-01', \"%Y-%m-%d\")\n",
    "end = datetime.strptime(end_date, \"%Y-%m-%d\")\n",
    "date_diff = end - mid\n",
    "date_diff.days"
   ]
  },
  {
   "cell_type": "code",
   "execution_count": null,
   "id": "a4d320ba",
   "metadata": {
    "ExecuteTime": {
     "end_time": "2022-01-22T08:37:06.593558Z",
     "start_time": "2022-01-22T08:37:06.593552Z"
    }
   },
   "outputs": [],
   "source": [
    "future_day = model.make_future_dataframe(periods=date_diff.days)\n",
    "pred_df = model.predict(future_day)"
   ]
  },
  {
   "cell_type": "code",
   "execution_count": null,
   "id": "47060cb8",
   "metadata": {
    "ExecuteTime": {
     "end_time": "2022-01-22T08:37:06.594039Z",
     "start_time": "2022-01-22T08:37:06.594033Z"
    }
   },
   "outputs": [],
   "source": [
    "print(pred_df.shape)\n",
    "pred_df.head(3)"
   ]
  },
  {
   "cell_type": "code",
   "execution_count": null,
   "id": "84b8e0be",
   "metadata": {
    "ExecuteTime": {
     "end_time": "2022-01-22T08:37:06.594649Z",
     "start_time": "2022-01-22T08:37:06.594644Z"
    }
   },
   "outputs": [],
   "source": [
    "model.plot(pred_df[[\"ds\", \"yhat\", \"yhat_lower\", \"yhat_upper\"]], figsize=(15, 5));"
   ]
  },
  {
   "cell_type": "markdown",
   "id": "a2532b7c",
   "metadata": {},
   "source": [
    "### Performance Check"
   ]
  },
  {
   "cell_type": "markdown",
   "id": "8fe43e21",
   "metadata": {},
   "source": [
    "* "
   ]
  },
  {
   "cell_type": "code",
   "execution_count": null,
   "id": "5f2f5048",
   "metadata": {
    "ExecuteTime": {
     "end_time": "2022-01-22T08:37:06.595096Z",
     "start_time": "2022-01-22T08:37:06.595091Z"
    }
   },
   "outputs": [],
   "source": [
    "df_tmp = deepcopy(df.reset_index())\n",
    "df_tmp = df_tmp.filter(['Date', 'Close', 'High', 'Low'])\n",
    "df_tmp.columns = ['ds', 'y', 'High', 'Low']"
   ]
  },
  {
   "cell_type": "code",
   "execution_count": null,
   "id": "21186bc6",
   "metadata": {
    "ExecuteTime": {
     "end_time": "2022-01-22T08:37:06.595621Z",
     "start_time": "2022-01-22T08:37:06.595616Z"
    }
   },
   "outputs": [],
   "source": [
    "plt.figure(figsize=[15,5])\n",
    "g1 = sns.lineplot(data = df_tmp, x='ds', y='y', color='blue')\n",
    "g1.fill_between(data= df_tmp, x='ds', y1='Low', y2='High', \n",
    "                facecolor='blue', alpha=0.2)\n",
    "\n",
    "g1 = sns.lineplot(data = pred_df, x='ds', y='yhat', color='red')\n",
    "g1.fill_between(data= pred_df, x='ds', y1='yhat_lower', y2='yhat_upper', \n",
    "                facecolor='red', alpha=0.2)\n",
    "g1.set_ylabel('Price (Won)')\n",
    "g1.set_xlabel('Date')\n",
    "g1.set_title('Stock Price of Kakao Corp')\n",
    "plt.tight_layout()\n",
    "plt.show()"
   ]
  },
  {
   "cell_type": "code",
   "execution_count": null,
   "id": "c8c8f7f9",
   "metadata": {
    "ExecuteTime": {
     "end_time": "2022-01-22T08:37:06.596354Z",
     "start_time": "2022-01-22T08:37:06.596346Z"
    }
   },
   "outputs": [],
   "source": [
    "predicted = pd.merge(pred_df, test_df, how = 'right')[['ds','yhat','y']]"
   ]
  },
  {
   "cell_type": "code",
   "execution_count": null,
   "id": "44918542",
   "metadata": {
    "ExecuteTime": {
     "end_time": "2022-01-22T08:37:06.596780Z",
     "start_time": "2022-01-22T08:37:06.596774Z"
    }
   },
   "outputs": [],
   "source": [
    "plt.figure(figsize=[15,5])\n",
    "g1 = sns.lineplot(data = predicted, x='ds', y='y', color='blue')\n",
    "g1 = sns.lineplot(data = predicted, x='ds', y='yhat', color='red')\n",
    "g1.set_ylabel('Price (Won)')\n",
    "g1.set_xlabel('Date')\n",
    "g1.set_title('Stock Price of Kakao Corp')\n",
    "plt.tight_layout()\n",
    "plt.show()"
   ]
  },
  {
   "cell_type": "code",
   "execution_count": null,
   "id": "2bbeeab7",
   "metadata": {
    "ExecuteTime": {
     "end_time": "2022-01-22T08:37:06.597271Z",
     "start_time": "2022-01-22T08:37:06.597266Z"
    }
   },
   "outputs": [],
   "source": [
    "from sklearn import metrics\n",
    "print('mse :', metrics.mean_squared_error(predicted.y, predicted.yhat))\n",
    "print('mae :', metrics.mean_absolute_error(predicted.y, predicted.yhat))"
   ]
  },
  {
   "cell_type": "code",
   "execution_count": null,
   "id": "63b6ac15",
   "metadata": {
    "ExecuteTime": {
     "end_time": "2022-01-22T08:37:06.597715Z",
     "start_time": "2022-01-22T08:37:06.597710Z"
    }
   },
   "outputs": [],
   "source": [
    "import pingouin as pg\n",
    "pg.corr(predicted.y, predicted.yhat,\n",
    "        alternative=\"two-sided\",\n",
    "        method=\"pearson\") # pearson, spearman, kendall, bicor, percbend, shepherd, skipped"
   ]
  },
  {
   "cell_type": "code",
   "execution_count": null,
   "id": "ba872c87",
   "metadata": {
    "ExecuteTime": {
     "end_time": "2022-01-22T08:37:06.598755Z",
     "start_time": "2022-01-22T08:37:06.598750Z"
    }
   },
   "outputs": [],
   "source": [
    "g = sns.lmplot(x=\"y\", y=\"yhat\", data=predicted, height=5, aspect=1.2);\n",
    "g.set_axis_labels(\"Actual Price\", \"Predicted Price\")\n",
    "plt.tight_layout()\n",
    "plt.show()"
   ]
  },
  {
   "cell_type": "markdown",
   "id": "7ba93311",
   "metadata": {},
   "source": [
    "## LSTM으로 Forecasting 하기"
   ]
  },
  {
   "cell_type": "markdown",
   "id": "392cb37d",
   "metadata": {},
   "source": [
    "### Data Preparation"
   ]
  },
  {
   "cell_type": "code",
   "execution_count": null,
   "id": "3a954c75",
   "metadata": {
    "ExecuteTime": {
     "end_time": "2022-01-22T08:37:06.599709Z",
     "start_time": "2022-01-22T08:37:06.599700Z"
    }
   },
   "outputs": [],
   "source": [
    "df2 = deepcopy(kko)\n",
    "df2 = df2.reset_index()"
   ]
  },
  {
   "cell_type": "code",
   "execution_count": null,
   "id": "29cc239c",
   "metadata": {
    "ExecuteTime": {
     "end_time": "2022-01-22T08:37:06.600466Z",
     "start_time": "2022-01-22T08:37:06.600460Z"
    }
   },
   "outputs": [],
   "source": [
    "train_df = df2[:df2[df2.Date == '2021-10-01'].index[0]]\n",
    "test_df = df2[df2[df2.Date == '2021-10-01'].index[0]:]"
   ]
  },
  {
   "cell_type": "code",
   "execution_count": null,
   "id": "30d0a6ca",
   "metadata": {
    "ExecuteTime": {
     "end_time": "2022-01-22T08:37:06.601026Z",
     "start_time": "2022-01-22T08:37:06.601020Z"
    }
   },
   "outputs": [],
   "source": [
    "train_df.shape, test_df.shape"
   ]
  },
  {
   "cell_type": "code",
   "execution_count": null,
   "id": "20633a37",
   "metadata": {
    "ExecuteTime": {
     "end_time": "2022-01-22T08:37:06.601946Z",
     "start_time": "2022-01-22T08:37:06.601940Z"
    }
   },
   "outputs": [],
   "source": [
    "def make_dataset(data, label, window_size=10):\n",
    "    feature_list = []\n",
    "    label_list = []\n",
    "    for i in range(len(data) - window_size):\n",
    "        feature_list.append(np.array(data.iloc[i:i+window_size]))\n",
    "        label_list.append(np.array(label.iloc[i+window_size]))\n",
    "    return np.array(feature_list), np.array(label_list)"
   ]
  },
  {
   "cell_type": "code",
   "execution_count": null,
   "id": "788ba3f2",
   "metadata": {
    "ExecuteTime": {
     "end_time": "2022-01-22T08:37:06.602881Z",
     "start_time": "2022-01-22T08:37:06.602873Z"
    }
   },
   "outputs": [],
   "source": [
    "window_size=10\n",
    "train_x = train_df[['Open', 'High', 'Low', 'Volume', 'Adj Close']]\n",
    "train_y = train_df['Close']\n",
    "train_x, train_y = make_dataset(train_x, train_y, window_size)\n",
    "\n",
    "test_x = test_df[['Open', 'High', 'Low', 'Volume', 'Adj Close']]\n",
    "test_y = test_df['Close']\n",
    "test_x, test_y = make_dataset(test_x, test_y, window_size)"
   ]
  },
  {
   "cell_type": "code",
   "execution_count": null,
   "id": "5df06bb6",
   "metadata": {
    "ExecuteTime": {
     "end_time": "2022-01-22T08:37:06.603631Z",
     "start_time": "2022-01-22T08:37:06.603626Z"
    }
   },
   "outputs": [],
   "source": [
    "print(train_x.shape, train_y.shape)\n",
    "print(test_x.shape, test_y.shape)"
   ]
  },
  {
   "cell_type": "code",
   "execution_count": null,
   "id": "4e3311b3",
   "metadata": {
    "ExecuteTime": {
     "end_time": "2022-01-22T08:37:06.604327Z",
     "start_time": "2022-01-22T08:37:06.604322Z"
    }
   },
   "outputs": [],
   "source": [
    "train_x[0][0], train_y[0], train_df.loc[10,:]"
   ]
  },
  {
   "cell_type": "code",
   "execution_count": null,
   "id": "d7019fa7",
   "metadata": {
    "ExecuteTime": {
     "end_time": "2022-01-22T08:37:06.604785Z",
     "start_time": "2022-01-22T08:37:06.604780Z"
    }
   },
   "outputs": [],
   "source": [
    "from sklearn import model_selection\n",
    "x_train, x_valid, y_train, y_valid = model_selection.train_test_split(train_x, train_y, test_size=0.2)\n",
    "x_train.shape, x_valid.shape"
   ]
  },
  {
   "cell_type": "markdown",
   "id": "a43ed874",
   "metadata": {},
   "source": [
    "### Modeling"
   ]
  },
  {
   "cell_type": "code",
   "execution_count": null,
   "id": "7ccd0a54",
   "metadata": {
    "ExecuteTime": {
     "end_time": "2022-01-22T08:37:06.605256Z",
     "start_time": "2022-01-22T08:37:06.605251Z"
    }
   },
   "outputs": [],
   "source": [
    "from keras.models import Sequential\n",
    "from keras.layers import Dense\n",
    "from keras.callbacks import EarlyStopping, ModelCheckpoint\n",
    "from keras.layers import LSTM\n",
    "\n",
    "# model setting\n",
    "model = tf.keras.models.Sequential()\n",
    "model.add(tf.keras.layers.LSTM(16, \n",
    "               input_shape=(train_x.shape[1], train_x.shape[2]), \n",
    "               activation='relu', \n",
    "               return_sequences=False)\n",
    "          )\n",
    "\n",
    "model.add(tf.keras.layers.Dense(1))\n",
    "model.compile(loss='mean_squared_error', optimizer='adam')\n",
    "\n",
    "# callback setting\n",
    "early_stop = EarlyStopping(monitor='val_loss', patience=5)\n",
    "model_path = 'model'\n",
    "filename = os.path.join(model_path, 'tmp_checkpoint.h5')\n",
    "checkpoint = ModelCheckpoint(filename, monitor='val_loss', verbose=1, save_best_only=True, mode='auto')\n"
   ]
  },
  {
   "cell_type": "code",
   "execution_count": null,
   "id": "23344883",
   "metadata": {
    "ExecuteTime": {
     "end_time": "2022-01-22T08:37:06.605890Z",
     "start_time": "2022-01-22T08:37:06.605883Z"
    }
   },
   "outputs": [],
   "source": [
    "history = model.fit(x_train, y_train, \n",
    "                    epochs=200, \n",
    "                    batch_size=16,\n",
    "                    validation_data=(x_valid, y_valid), \n",
    "                    callbacks=[early_stop, checkpoint])"
   ]
  },
  {
   "cell_type": "code",
   "execution_count": null,
   "id": "4578063e",
   "metadata": {
    "ExecuteTime": {
     "end_time": "2022-01-22T08:37:06.606473Z",
     "start_time": "2022-01-22T08:37:06.606468Z"
    }
   },
   "outputs": [],
   "source": [
    "proj_dir"
   ]
  },
  {
   "cell_type": "code",
   "execution_count": null,
   "id": "3daaf482",
   "metadata": {},
   "outputs": [],
   "source": []
  },
  {
   "cell_type": "code",
   "execution_count": null,
   "id": "ffc60315",
   "metadata": {
    "ExecuteTime": {
     "end_time": "2022-01-22T08:26:40.945033Z",
     "start_time": "2022-01-22T08:26:40.937041Z"
    }
   },
   "outputs": [],
   "source": []
  },
  {
   "cell_type": "code",
   "execution_count": null,
   "id": "ec8dce1f",
   "metadata": {},
   "outputs": [],
   "source": []
  },
  {
   "cell_type": "code",
   "execution_count": null,
   "id": "63a08362",
   "metadata": {},
   "outputs": [],
   "source": []
  },
  {
   "cell_type": "code",
   "execution_count": null,
   "id": "e7d06c74",
   "metadata": {},
   "outputs": [],
   "source": []
  },
  {
   "cell_type": "code",
   "execution_count": null,
   "id": "5e360cea",
   "metadata": {
    "ExecuteTime": {
     "end_time": "2022-01-22T08:37:06.606781Z",
     "start_time": "2022-01-22T08:37:06.606776Z"
    }
   },
   "outputs": [],
   "source": [
    "# general\n",
    "import os\n",
    "from copy import deepcopy\n",
    "import warnings\n",
    "import pandas as pd\n",
    "import numpy as np\n",
    "\n",
    "import missingno as msno\n",
    "\n",
    "\n",
    "# statistics\n",
    "from scipy import stats\n",
    "import statsmodels as modeling\n",
    "import pingouin as pg\n",
    "\n",
    "# ML & DL\n",
    "import sklearn\n",
    "import keras\n",
    "# from sklearn import preprocessing, feature_selection, linear_model, svm, metrics, model_selection\n",
    "import tensorflow as tp"
   ]
  },
  {
   "cell_type": "code",
   "execution_count": null,
   "id": "ea23c715",
   "metadata": {},
   "outputs": [],
   "source": []
  },
  {
   "cell_type": "code",
   "execution_count": null,
   "id": "35972210",
   "metadata": {},
   "outputs": [],
   "source": []
  },
  {
   "cell_type": "code",
   "execution_count": null,
   "id": "bd56e177",
   "metadata": {},
   "outputs": [],
   "source": []
  },
  {
   "cell_type": "code",
   "execution_count": null,
   "id": "7528a80c",
   "metadata": {},
   "outputs": [],
   "source": []
  },
  {
   "cell_type": "code",
   "execution_count": null,
   "id": "d5472496",
   "metadata": {},
   "outputs": [],
   "source": []
  },
  {
   "cell_type": "code",
   "execution_count": null,
   "id": "38fc247c",
   "metadata": {},
   "outputs": [],
   "source": []
  }
 ],
 "metadata": {
  "hide_input": false,
  "kernelspec": {
   "display_name": "Python 3 (ipykernel)",
   "language": "python",
   "name": "python3"
  },
  "language_info": {
   "codemirror_mode": {
    "name": "ipython",
    "version": 3
   },
   "file_extension": ".py",
   "mimetype": "text/x-python",
   "name": "python",
   "nbconvert_exporter": "python",
   "pygments_lexer": "ipython3",
   "version": "3.8.12"
  },
  "toc": {
   "base_numbering": 1,
   "nav_menu": {},
   "number_sections": true,
   "sideBar": true,
   "skip_h1_title": false,
   "title_cell": "Table of Contents",
   "title_sidebar": "Contents",
   "toc_cell": false,
   "toc_position": {
    "height": "calc(100% - 180px)",
    "left": "10px",
    "top": "150px",
    "width": "288px"
   },
   "toc_section_display": true,
   "toc_window_display": true
  },
  "varInspector": {
   "cols": {
    "lenName": 16,
    "lenType": 16,
    "lenVar": 40
   },
   "kernels_config": {
    "python": {
     "delete_cmd_postfix": "",
     "delete_cmd_prefix": "del ",
     "library": "var_list.py",
     "varRefreshCmd": "print(var_dic_list())"
    },
    "r": {
     "delete_cmd_postfix": ") ",
     "delete_cmd_prefix": "rm(",
     "library": "var_list.r",
     "varRefreshCmd": "cat(var_dic_list()) "
    }
   },
   "types_to_exclude": [
    "module",
    "function",
    "builtin_function_or_method",
    "instance",
    "_Feature"
   ],
   "window_display": false
  }
 },
 "nbformat": 4,
 "nbformat_minor": 5
}
